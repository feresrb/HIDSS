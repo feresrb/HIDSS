{
 "cells": [
  {
   "cell_type": "markdown",
   "metadata": {
    "deletable": false,
    "nbgrader": {
     "checksum": "f511eff26871492f3fa4ae077230fe51",
     "grade": false,
     "grade_id": "cell-f77284e87f75a760",
     "locked": true,
     "schema_version": 1,
     "solution": false
    }
   },
   "source": [
    "# Health Information Systems and Decision Support Systems\n",
    "# WPO 4: - CAD Systems (20/03/2020)\n",
    "***\n",
    "*Panagiotis Gonidakis, Jakub Ceranka, Pieter Boonen, Jef Vandemeulebrouke*<br>\n",
    "*Department of Electronics and Informatics (ETRO)*<br>\n",
    "*Vrije Universiteit Brussel, Pleinlaan 2, B-1050 Brussels, Belgium*"
   ]
  },
  {
   "cell_type": "markdown",
   "metadata": {},
   "source": [
    "<font color=blue>Niklaus Jeff Geisser Aguilar 0554142</font> </br>\n",
    "\n",
    "<font color=blue>Fernando Esteban Ramirez Barbosa 0562659</font> </br>"
   ]
  },
  {
   "cell_type": "markdown",
   "metadata": {
    "deletable": false,
    "nbgrader": {
     "checksum": "35e56d1502506c7d95a2179be1975802",
     "grade": false,
     "grade_id": "cell-1180f9385da3b954",
     "locked": true,
     "schema_version": 1,
     "solution": false
    }
   },
   "source": [
    "### Goal\n",
    "The goal of this practical session is to get an insight into artificial neural networks and convolutional neural networks. Your tasks will involve examining and preprocessing the data, training various neural networks and validating the performance of your system against the ground-truth predictions done manually by an experienced radiologist. Students must send their notebook, the image files representing the necessary graphs and the report in .ipynb and .html format. The grade from this practical session will contribute to your final grade.\n",
    "\n",
    "You are kindly requested to submit the <b> .ipynb </b>, an exported <b>.html</b> version  with all the cells properly executed and a <b>.zip</b> file containing all the <b>images</b> displaying the tensorboard training/validating curves </b>(in case are not displayed in the .ipynb).\n",
    "\n",
    "Please use the Canvas or Ufora assignment functionality to upload your reports.\n",
    "\n",
    "The deadline of the submission is in <b> 09/04/2020, 23:59 pm. </b>.\n",
    "\n",
    "If you have difficulties submitting your assignment, send it to [jceranka@etrovub.be](mailto:jceranka@etrovub.be) \n",
    "\n",
    "Questions: [jceranka@etrovub.be](mailto:jceranka@etrovub.be)"
   ]
  },
  {
   "cell_type": "markdown",
   "metadata": {
    "deletable": false,
    "nbgrader": {
     "checksum": "5287e4bf438bc9b077ef9f2e4bcec518",
     "grade": false,
     "grade_id": "cell-65dd4b67d3695b43",
     "locked": true,
     "schema_version": 1,
     "solution": false
    }
   },
   "source": [
    "# Libraries\n",
    "During this practical session, the following libraries will be used:\n",
    "\n",
    "* Numpy (np)\n",
    "* Glob\n",
    "* Simple ITK (sitk)\n",
    "* Matplotlib\n",
    "* Sklearn\n",
    "* Tensorflow (tf)\n",
    "* TFLearn / (you can also use keras)\n",
    "\n",
    "To import any external library, you need to import it using the **import** statement followed by the name of the library and the shortcut. You can additionally check for the module version using **version** command. \n",
    "\n",
    "* If you use your own laptop, you will need to install the two new modules. Otherwise, all the necessary software is already installed at the lab's PCs. \n",
    "\n",
    "* These expirements are simplified in order to be run without the need of a powerful GPU. However some training tasks may take 30-40 minutes using a CPU. You can accelerate your expirements if you work on [Google colab](https://colab.research.google.com/) framework where a GPU is offered. Then you need to create a GoogleDrive account and upload all the necessary data (scripts + data). \n",
    "For more information look [here](https://colab.research.google.com/) and [here](https://colab.research.google.com/notebooks/gpu.ipynb)"
   ]
  },
  {
   "cell_type": "markdown",
   "metadata": {
    "deletable": false,
    "nbgrader": {
     "checksum": "90dddf608397c1410372081b65393f39",
     "grade": false,
     "grade_id": "cell-cfeba9f5a5235a75",
     "locked": true,
     "schema_version": 1,
     "solution": false
    }
   },
   "source": [
    "### How to  install TFLearn\n",
    "\n",
    "TFLearn requires Tensorflow to be installed. For the purpose of this excercise you are promted to install Tensorflow with <b>CPU support only</b>.\n",
    "\n",
    "* https://www.tensorflow.org/install/ <p>\n",
    "* https://www.tensorflow.org/install/install_linux  <p>\n",
    "* https://www.tensorflow.org/install/install_mac  <p>\n",
    "* https://www.tensorflow.org/install/install_windows  <p>\n",
    "\n",
    "Then, install TFLearn: \n",
    "* http://tflearn.org/installation/\n",
    "\n",
    "Generally, open the anaconda prompt and then type:\n",
    " ```pip install tensorflow``` and after ```pip install tflearn```\n",
    " \n",
    "(*) Keep in mind that recently there is a new version of tensorflow. Depending on the python version you are working you might donwload tensorflow 1 or 2. For python 3.6, tensorflow 2.1.0 is by default is downloaded whereas for python 3.7, tensorflow 1.14.0. It is advised to verify which version it is being used before looking for any documentation as the APIs differ.\n",
    "\n",
    "(*) Alternally, if you have compatability issues or your are more familiar with keras, you can install [keras](https://keras.io/#installation) which is very similar to tflearn."
   ]
  },
  {
   "cell_type": "markdown",
   "metadata": {
    "deletable": false,
    "nbgrader": {
     "checksum": "8f6b761e553767615fad950fc7d54345",
     "grade": false,
     "grade_id": "cell-e04efc9902fe123b",
     "locked": true,
     "schema_version": 1,
     "solution": false
    }
   },
   "source": [
    "# Lung Nodule Analysis \n",
    "Lung cancer is the leading cause of cancer-related deaths worldwide. Screening high risk individuals for lung cancer with low-dose CT scans is now being implemented in the United States and other countries are expected to follow soon. In CT lung cancer screening, millions of CT scans will have to be analyzed, which is an enormous burden for radiologists. Therefore, there is a lot of interest in development of computer algorithms to optimize cancer screening.\n",
    "\n",
    "<img src=\"images/luna16_image.png\">\n",
    "\n",
    "A vital first step in the analysis of lung cancer CT scans is the detection of pulmonary nodules, which may or may not represent early stage lung cancer. Many Computer-Aided Detection (CAD) systems have already been proposed for this task. \n",
    "\n",
    "The LIDC/IDRI data set is publicly available, including the ground-truth annotations of nodules performed by four radiologists.\n",
    "\n",
    "This practical session is inspired from the challenge [LUNA16](https://luna16.grand-challenge.org/home/), which focused on a large-scale evaluation of automatic nodule detection algorithms on the LIDC/IDRI data set.\n",
    "\n",
    "<img src=\"images/lung_cancer1.png\">\n",
    "\n",
    "\n",
    "### Using LIDC/IDRI data set in this practical session\n",
    "\n",
    "For the needs of this practical session, we will look for an algorithm that only determines the likelihood for a given location in a CT scan to contain a pulmonary nodule. Furthermore, we have included a very small part of the LIDC/IDRI data set and we will use only a slice of suspicious regions of a CT scan.\n",
    "\n",
    "### Data augmentation\n",
    "\n",
    "Originally our dataset was very unbalanced. There were a lot samples of non-nodules (negatives) but very few samples of nodules (positives). Machine learning algorithms and specifically neural networks and convolutional neural networks require to be trained on balanced dataset, meaning all the classes should be equally represented in the training set. \n",
    "\n",
    "Using data augmentation methods (**rotation and translation**), positive samples were massively augmented in order to balance the two classes (nodules and non-nodules)\n",
    "\n",
    "### Ground Truth data\n",
    "\n",
    "Categorical data are variables that contain label values rather than numeric values. In our dataset, a sample can represent a nodule or a non-nodule area, so initially we have our ground truth data in a categorical form. Many machine learning algorithms cannot operate on label data directly. They require all input variables to be numeric. This means that categorical data must be converted to a numerical form. This involves two steps:\n",
    "1. Integer Encoding\n",
    "2. One-Hot Encoding.\n",
    "\n",
    "As a first step, each unique category value is assigned an integer value. That's why in our dataset, a sample which represents a nodule will have as a label **1** and a sample which represents a non-nodule area will have as a label **0**.\n",
    "\n",
    "For our case, this enconding step would be enough since we have only two categories. However, in a more general problem with more than two classes, using this encoding allows the model to assume a natural ordering between categories which may result in poor performance or unexpected results. That's why, one hot encoding can be appled to the integer representation. This is where the integer encoded variable is removed and a new binary variable is added for each unique integer value. \n",
    "\n",
    "Therefore, a  nodule will be represented by the binary variable [1,0] and a non-nodule area by the binary variable [0,1].\n",
    "\n",
    "<img src=\"images/lung_cancer2.png\">\n"
   ]
  },
  {
   "cell_type": "markdown",
   "metadata": {
    "deletable": false,
    "nbgrader": {
     "checksum": "77b5ce922c11056fda2cc0a605361876",
     "grade": false,
     "grade_id": "cell-88edf7d56c17540b",
     "locked": true,
     "schema_version": 1,
     "solution": false
    }
   },
   "source": [
    "# Part 1: Visualize, load and prepare data for Machine Learning Algorithms\n",
    "\n",
    "CT images are stored in MetaImage (mhd/raw) format. Each .mhd file is stored with as a header file (.mhd) and a corresponding pixeldata file (.raw). To load a CT image, just **load the .mhd header file** and data from the binary .raw file will be automatically loaded.\n",
    "\n",
    "If you look carefully at the name of each .mhd file, you can extract useful information for a specific sample. You can identify its **number id**, its **size**, if the image was produced by a **data augmentation** method and if it contains a **nodule or not**.\n",
    "\n",
    "For example: *20046_x0y0z0_20x20x6_r0_1.mhd*\n",
    "* **20046**:   number of candidate patch\n",
    "* **x0y0z0**: no translation in any axis (if augmentation is used it is mentioned by the angle in the corresponding axis)\n",
    "* **20x20x6**: size of the image in voxels\n",
    "* **r0**:     no rotation\n",
    "* **1**:      it is a positive sample - represents a nodule\n",
    "* **.mhd**:   it is a mhd file (this is the file which can be loaded)"
   ]
  },
  {
   "cell_type": "markdown",
   "metadata": {
    "deletable": false,
    "nbgrader": {
     "checksum": "eaa451a946fc33d891799f2910eb06af",
     "grade": false,
     "grade_id": "cell-6e65384d14dac861",
     "locked": true,
     "schema_version": 1,
     "solution": false
    }
   },
   "source": [
    "### Task 1: Import necessary libraries\n",
    "\n",
    "Load all necessary libraries using the **import** statement and check for errors."
   ]
  },
  {
   "cell_type": "code",
   "execution_count": 1,
   "metadata": {},
   "outputs": [
    {
     "name": "stdout",
     "output_type": "stream",
     "text": [
      "curses is not supported on this machine (please install/reinstall curses for an optimal experience)\n",
      "WARNING:tensorflow:From C:\\Users\\ferba\\Anaconda3\\lib\\site-packages\\tflearn\\helpers\\summarizer.py:9: The name tf.summary.merge is deprecated. Please use tf.compat.v1.summary.merge instead.\n",
      "\n",
      "WARNING:tensorflow:From C:\\Users\\ferba\\Anaconda3\\lib\\site-packages\\tflearn\\helpers\\trainer.py:25: The name tf.summary.FileWriter is deprecated. Please use tf.compat.v1.summary.FileWriter instead.\n",
      "\n",
      "WARNING:tensorflow:From C:\\Users\\ferba\\Anaconda3\\lib\\site-packages\\tflearn\\collections.py:13: The name tf.GraphKeys is deprecated. Please use tf.compat.v1.GraphKeys instead.\n",
      "\n",
      "WARNING:tensorflow:From C:\\Users\\ferba\\Anaconda3\\lib\\site-packages\\tflearn\\config.py:123: The name tf.get_collection is deprecated. Please use tf.compat.v1.get_collection instead.\n",
      "\n",
      "WARNING:tensorflow:From C:\\Users\\ferba\\Anaconda3\\lib\\site-packages\\tflearn\\config.py:129: The name tf.add_to_collection is deprecated. Please use tf.compat.v1.add_to_collection instead.\n",
      "\n",
      "WARNING:tensorflow:From C:\\Users\\ferba\\Anaconda3\\lib\\site-packages\\tflearn\\config.py:131: The name tf.assign is deprecated. Please use tf.compat.v1.assign instead.\n",
      "\n"
     ]
    }
   ],
   "source": [
    "# Code for Part 1: Task 1\n",
    "import numpy as np\n",
    "import glob\n",
    "import SimpleITK as sitk\n",
    "import matplotlib.pyplot as plt\n",
    "%matplotlib inline\n",
    "import sklearn\n",
    "import tensorflow as tf\n",
    "import tflearn\n",
    "import pandas as pd\n",
    "import os\n",
    "\n",
    "import tensorflow.contrib.slim as slim\n",
    "\n",
    "from sklearn.metrics import confusion_matrix\n",
    "from sklearn.metrics import average_precision_score\n",
    "from sklearn.metrics import precision_recall_curve\n",
    "from sklearn.metrics import plot_precision_recall_curve\n",
    "from sklearn.metrics import classification_report\n",
    "from sklearn.metrics import roc_curve\n",
    "from sklearn.metrics import auc"
   ]
  },
  {
   "cell_type": "markdown",
   "metadata": {
    "deletable": false,
    "nbgrader": {
     "checksum": "945c2ee4613c085addad9e466a2e2d03",
     "grade": false,
     "grade_id": "cell-1f6fe6d45fa0e86d",
     "locked": true,
     "schema_version": 1,
     "solution": false
    }
   },
   "source": [
    "### Task 2: Inspect the dataset\n",
    "\n",
    "1. Using SimpleITK, create a function to load .mhd files (__Tip:__ The function should return a numpy array - sitk.GetArrayFromImage( ) )\n",
    "2. Visualize the 6 slices of a chosen patch using matplotlib subplot figure and mention if it is a positive or a negative patch.\n",
    "3. Visualize some augmented samples from the same candidate region using matplotlib subplot of the same patch and mention the augmentation method. Check visually if the observed patch was modified using the same augmentation method that is mentioned in the samples' filename.\n",
    "4. Count your files. How many positives and negatives there are in this dataset? (__Tip:__ Use glob library to get the number of specific files in your dataset)"
   ]
  },
  {
   "cell_type": "code",
   "execution_count": 2,
   "metadata": {},
   "outputs": [],
   "source": [
    "# Code for Part 1: Task 2\n",
    "\n",
    "# 1. Function for reading as array\n",
    "\n",
    "def loadImage(filename):\n",
    "    image = sitk.ReadImage(filename)\n",
    "    nda = sitk.GetArrayFromImage(image)\n",
    "    \n",
    "    return nda"
   ]
  },
  {
   "cell_type": "code",
   "execution_count": 3,
   "metadata": {},
   "outputs": [
    {
     "data": {
      "image/png": "[encoded data removed]",
      "text/plain": [
       "<Figure size 1080x1080 with 6 Axes>"
      ]
     },
     "metadata": {
      "needs_background": "light"
     },
     "output_type": "display_data"
    }
   ],
   "source": [
    "# 2. Subplot of 6 slices\n",
    "\n",
    "slices = loadImage(\"MiniLunaDataset3/20046_x0y0z0_20x20x6_r0_1.mhd\")\n",
    "\n",
    "def showSubplot(slices):\n",
    "    fig, axs = plt.subplots(3,2,figsize=(15,15))\n",
    "    axs[0,0].imshow(slices[0])\n",
    "    axs[0,0].set_title('Slice 1')\n",
    "    #axs[0,0].set_ylabel('HU')\n",
    "    axs[0,0].grid(True)\n",
    "\n",
    "    axs[0,1].imshow(slices[1])\n",
    "    axs[0,1].set_title('Slice 2')\n",
    "    axs[0,1].grid(True)\n",
    "\n",
    "    axs[1,0].imshow(slices[2])\n",
    "    axs[1,0].set_title('Slice 3')\n",
    "    axs[1,0].grid(True)\n",
    "\n",
    "    axs[1,1].imshow(slices[3])\n",
    "    axs[1,1].set_title('Slice 4')\n",
    "    axs[1,1].grid(True)\n",
    "\n",
    "    axs[2,0].imshow(slices[4])\n",
    "    axs[2,0].set_title('Slice 5')\n",
    "    axs[2,0].grid(True)\n",
    "\n",
    "    axs[2,1].imshow(slices[5])\n",
    "    axs[2,1].set_title('Slice 6')\n",
    "    axs[2,1].grid(True)\n",
    "    \n",
    "    return plt.show()\n",
    "\n",
    "showSubplot(slices)"
   ]
  },
  {
   "cell_type": "code",
   "execution_count": 4,
   "metadata": {},
   "outputs": [
    {
     "data": {
      "image/png": "[encoded data removed]",
      "text/plain": [
       "<Figure size 1080x1080 with 6 Axes>"
      ]
     },
     "metadata": {
      "needs_background": "light"
     },
     "output_type": "display_data"
    }
   ],
   "source": [
    "# 3 Augmented samples from same candidate\n",
    "slices = loadImage(\"MiniLunaDataset3/20046_x-1y0z0_20x20x6_r180_1.mhd\")\n",
    "showSubplot(slices)"
   ]
  },
  {
   "cell_type": "markdown",
   "metadata": {},
   "source": [
    "By seeing at the name, we can see the augmentation method was a translation in X axis and rotation by 180°. Also, this can be corroborated by looking at the subplots. We can see how the selected patch indeed rotates 180° and was moved along the X axis. Also, from the file name we can know it is positive because it has a \"1\" on it, and can be checked by looking at the nodule. Below, there is an example of a negative and can be seen on slice 5 and 6 that it does not have the spherical form we were looking for an actual nodule."
   ]
  },
  {
   "cell_type": "code",
   "execution_count": 5,
   "metadata": {},
   "outputs": [
    {
     "data": {
      "image/png": "[encoded data removed]",
      "text/plain": [
       "<Figure size 1080x1080 with 6 Axes>"
      ]
     },
     "metadata": {
      "needs_background": "light"
     },
     "output_type": "display_data"
    }
   ],
   "source": [
    "slices = loadImage(\"MiniLunaDataset3/25536_x0y0z0_20x20x6_r0_0.mhd\")\n",
    "showSubplot(slices)"
   ]
  },
  {
   "cell_type": "code",
   "execution_count": 6,
   "metadata": {},
   "outputs": [
    {
     "name": "stdout",
     "output_type": "stream",
     "text": [
      "Positives = 1101\n",
      "Negatives = 1214\n",
      "Total counted = 2315\n",
      "Sum positives and negatives = 2315\n"
     ]
    }
   ],
   "source": [
    "# 4. Counting files\n",
    "\n",
    "pos = len(glob.glob(\"MiniLunaDataset3/*1.mhd\"))\n",
    "neg = len(glob.glob(\"MiniLunaDataset3/*0.mhd\"))\n",
    "tot = len(glob.glob(\"MiniLunaDataset3/*.mhd\"))\n",
    "\n",
    "print(\"Positives = \" + str(pos))\n",
    "print(\"Negatives = \" + str(neg))\n",
    "print(\"Total counted = \" + str(tot))\n",
    "print(\"Sum positives and negatives = \" + str(pos+neg))"
   ]
  },
  {
   "cell_type": "markdown",
   "metadata": {
    "deletable": false,
    "nbgrader": {
     "checksum": "dcf46ab947dd55a873e1469c775a2f59",
     "grade": false,
     "grade_id": "cell-d9e7fbe181dfe944",
     "locked": true,
     "schema_version": 1,
     "solution": false
    }
   },
   "source": [
    "### Task 3: Data pre-processing\n",
    "In order to use neural-networks, we need to pre-process the data and store it in a way which can be easily interpreted by tensorflow.\n",
    "\n",
    "First of all, separate the test set from the train set. Keep 10% of your samples as a test-set. (**Tip:** Use sklearn **train_test_split** function.)\n",
    "\n",
    "Since 3D CNNs need a lot of computation power, we will convert our problem to 2D. Instead of using all the 6 CT slices, we will use only the 3rd CT slice. Therefore, from each sample, the 3rd slice wiil be extracted and further preprocessed. In addition, our values currently range from -1024 HU to around 2000 HU. Anything above 400 is not interesting to us, as these are simply bones with different radiodensity. A commonly used set of thresholds to normalize between is -1000 and 400. Finally the labels will be properly encoded to be used for training and testing.\n",
    "\n",
    "Write your pre-processing tasks as python functions (listed below) and in the end create a pipeline for each sample which will be also implemented as a function.\n",
    "1. Function loading the .mhd image as a numpy array.\n",
    "2. Function extracting the 3rd slice of a patch. The final form of patches should be a numpy array of size **20x20** pixels.\n",
    "3. Function normalizing the dataset.\n",
    "The unit of measurement in CT scans is the **Hounsfield Unit (HU)**, which is a measure of radiodensity. CT scanners are carefully calibrated to accurately measure this. From Wikipedia:\n",
    "<img src=\"images/HU_CTscannersCalibration.png\">\n",
    "\n",
    "    Create a function which is going to normalize the samples according to this table \n",
    "        * Create numpy arrays \n",
    "        * Normalize between [-1000, 400] using this normalization method \n",
    "    $npzarray = (npzarray - minHU) / (maxHU - minHU)$ <br>\n",
    "         where minHU = -1000 and maxHU = 400\n",
    "        * After this normalization set any values bigger than 1 to 1 and any values smaller than 0 to 0. \n",
    "\n",
    "4. If statement creating **1-hot** labels as a ground truth data in order to train the neural networks. (One-hot labels: [0,1] --> negative, [1,0]--> positive)\n",
    " \n",
    "5. Store into .npy data binary files. (__Tip:__ Use np.save to store data.)\n",
    "\n",
    "\n",
    "The pipeline should execute the functions as follows: <br>\n",
    "Load mhd using sitk -> normalize -> Extract 3rd slice -> Label \n",
    "\n",
    "and return:\n",
    "* data:  [sample_idx,20,20]\n",
    "* labels: [sample_idx,2]\n",
    "\n",
    "Data pre-processing should be done for both: train and test set."
   ]
  },
  {
   "cell_type": "code",
   "execution_count": 7,
   "metadata": {},
   "outputs": [],
   "source": [
    "# Code for Part 1: Task 3"
   ]
  },
  {
   "cell_type": "markdown",
   "metadata": {},
   "source": [
    "##### 1. Function loading the .mhd image as a numpy array.\n",
    "\n",
    "Function: loadImage(filename)\n",
    "\n",
    "Already exist from Task 1. "
   ]
  },
  {
   "cell_type": "markdown",
   "metadata": {},
   "source": [
    "##### 2. Function normalizing the dataset. "
   ]
  },
  {
   "cell_type": "code",
   "execution_count": 8,
   "metadata": {},
   "outputs": [],
   "source": [
    "def normalize(dataset):\n",
    "    norm = np.zeros(dataset.shape)\n",
    "    minHU = -1000\n",
    "    maxHU = 400\n",
    "    # Normalizing\n",
    "    norm = (dataset - minHU) / (maxHU - minHU) \n",
    "    # Setting values bigger than 1 to 1 and any values smaller than 0 to 0.\n",
    "    norm = np.clip(norm, 0, 1)\n",
    "    #print(norm)\n",
    "    return norm"
   ]
  },
  {
   "cell_type": "markdown",
   "metadata": {},
   "source": [
    "###### 3. Function extracting the 3rd slice of a patch. "
   ]
  },
  {
   "cell_type": "code",
   "execution_count": 9,
   "metadata": {},
   "outputs": [],
   "source": [
    "def extract(slices):\n",
    "    slice3 = slices [2]\n",
    "    #print(slice3)\n",
    "    #print(slice3.size)\n",
    "    #print(slice3.shape)\n",
    "    #plt.imshow(slice3)\n",
    "    return slice3"
   ]
  },
  {
   "cell_type": "code",
   "execution_count": 10,
   "metadata": {},
   "outputs": [],
   "source": [
    "###### 4. Creating 1-hot labels"
   ]
  },
  {
   "cell_type": "code",
   "execution_count": 11,
   "metadata": {},
   "outputs": [],
   "source": [
    "from sklearn.preprocessing import OneHotEncoder\n",
    "\n",
    "def label1hot(slices):\n",
    "    # Setting categories\n",
    "    X = ['1','0'] \n",
    "    enc = OneHotEncoder(categories=[X], sparse=False, handle_unknown='error')\n",
    "    labels = enc.fit_transform(ground)\n",
    "    display(enc.categories_)\n",
    "    display(labels.shape)\n",
    "    display(labels)\n",
    "    return labels"
   ]
  },
  {
   "cell_type": "code",
   "execution_count": 12,
   "metadata": {},
   "outputs": [],
   "source": [
    "###### 5. Splitting test set from train set."
   ]
  },
  {
   "cell_type": "code",
   "execution_count": 13,
   "metadata": {},
   "outputs": [],
   "source": [
    "from sklearn.model_selection import train_test_split\n",
    "\n",
    "def split(data, slices, test_size):\n",
    "    data_train, data_test, labels_train, labels_test = train_test_split(data, slices, test_size = test_size)\n",
    "    print(data_train.shape)\n",
    "    print(data_test.shape)\n",
    "    print(labels_train.shape)\n",
    "    print(labels_test.shape)\n",
    "    return (data_train, data_test, labels_train, labels_test)"
   ]
  },
  {
   "cell_type": "markdown",
   "metadata": {},
   "source": [
    "### Final pipeline"
   ]
  },
  {
   "cell_type": "code",
   "execution_count": 14,
   "metadata": {},
   "outputs": [
    {
     "data": {
      "text/plain": [
       "[array(['1', '0'], dtype=object)]"
      ]
     },
     "metadata": {},
     "output_type": "display_data"
    },
    {
     "data": {
      "text/plain": [
       "(2315, 2)"
      ]
     },
     "metadata": {},
     "output_type": "display_data"
    },
    {
     "data": {
      "text/plain": [
       "array([[1., 0.],\n",
       "       [1., 0.],\n",
       "       [1., 0.],\n",
       "       ...,\n",
       "       [0., 1.],\n",
       "       [0., 1.],\n",
       "       [0., 1.]])"
      ]
     },
     "metadata": {},
     "output_type": "display_data"
    },
    {
     "name": "stdout",
     "output_type": "stream",
     "text": [
      "(2083, 20, 20)\n",
      "(232, 20, 20)\n",
      "(2083, 2)\n",
      "(232, 2)\n"
     ]
    }
   ],
   "source": [
    "ground=pd.DataFrame()\n",
    "data=np.zeros((tot,20,20))\n",
    "\n",
    "for i,file in enumerate(glob.glob('MiniLunaDataset3/*.mhd'),0):\n",
    "    ground = ground.append([file[-5:-4]],ignore_index=True) \n",
    "    slices = loadImage(file)\n",
    "    #print(slices)\n",
    "       \n",
    "    slices = normalize(slices)\n",
    "       \n",
    "    slices = extract(slices)\n",
    "        \n",
    "    data[i,:,:]=slices\n",
    "        \n",
    "slices = label1hot(slices)\n",
    "   \n",
    "data_train, data_test, labels_train, labels_test = split(data, slices, 0.1)"
   ]
  },
  {
   "cell_type": "markdown",
   "metadata": {},
   "source": [
    "#### Storing into .npy data binary files. (Tip: Use np.save to store data.)"
   ]
  },
  {
   "cell_type": "code",
   "execution_count": 15,
   "metadata": {},
   "outputs": [],
   "source": [
    "np.save(\"data_train\", data_train)\n",
    "np.save(\"data_test\", data_test)\n",
    "np.save(\"labels_train\", labels_train)\n",
    "np.save(\"labels_test\", labels_test)"
   ]
  },
  {
   "cell_type": "markdown",
   "metadata": {
    "deletable": false,
    "nbgrader": {
     "checksum": "f0f3e11c93d2004ee46bad5992f6c714",
     "grade": false,
     "grade_id": "cell-f4edb7482a0753c4",
     "locked": true,
     "schema_version": 1,
     "solution": false
    }
   },
   "source": [
    "In case you are not able to complete part 1, you can move to part 2 of the session by loading the provided .npy files. In that case you will **not** get any credits for Part 1."
   ]
  },
  {
   "cell_type": "markdown",
   "metadata": {
    "deletable": false,
    "editable": false,
    "nbgrader": {
     "checksum": "687da3742ff425ca860c8478ed7d081a",
     "grade": false,
     "grade_id": "cell-d1fb33251b563bb8",
     "locked": true,
     "schema_version": 1,
     "solution": false
    }
   },
   "source": [
    "# Part 2: Model training and validation"
   ]
  },
  {
   "cell_type": "markdown",
   "metadata": {
    "deletable": false,
    "nbgrader": {
     "checksum": "3d1de1e961e4781cd28635929dc63f5d",
     "grade": false,
     "grade_id": "cell-a11370ef4ea445ca",
     "locked": true,
     "schema_version": 1,
     "solution": false
    }
   },
   "source": [
    "### Using TFLearn - A High Level API for Tensorflow\n",
    "\n",
    "TFLearn introduces a High-Level API that makes neural network building and training fast and easy. This API is intuitive and fully compatible with Tensorflow.\n",
    "\n",
    "Have a look at the following links for more information about TFLearn: <br>\n",
    "http://tflearn.org/getting_started/ <p>\n",
    "http://tflearn.org/tutorials/quickstart.html <p>\n",
    "http://tflearn.org/models/dnn/ <p>\n",
    "\n",
    "When you install TensorFlow, you automatically also install <b>Tensorboard</b>. During or after training you can use  it  to visualize the network and its performance. For the next tasks, <b>include both the loss and the accuracy graphs for training and also for evaluating the test-set</b>. A simple way to attach these graphs to jupyter notebook is to use Window's Snipping Tool or a similar application. Then display it either using a plain HTML ```<img src>``` or by using ```IPython.display.Image``` and ```IPython.core.display.HTML```. Don't forget to submit the actual image file with your .ipynb as the image is not saved in the notebook, it is just linked.\n",
    "\n",
    "### Some Tips:\n",
    "\n",
    "* Use ```np.load``` to load your data from the previously created .npy binary files.\n",
    "* Use ```reshape``` method when it is needed to import data to the network.\n",
    "* Make your own function to create the model for each network architecture to avoid any model conflicts.\n",
    "* To define a model:\n",
    "```python\n",
    " network = ...(some layers) ...\n",
    " \n",
    " network = regression(network, optimizer='...', loss='...')\n",
    " modelname = DNN(network) \n",
    "```\n",
    "* Use the model's method <b>fit</b> to train your network:\n",
    "```python\n",
    " modelname.fit(X,Y)\n",
    "```\n",
    "\n",
    "* Use the model's method <b>save</b> to save your trained model:\n",
    "```python\n",
    " modelname.save('modelname.tflearn')\n",
    "```\n",
    "\n",
    "\n",
    "* Use the model's methods <b>load</b> to load a model from a previous python session.\n",
    "```python\n",
    " modelname.load('modelname.tflearn') \n",
    "```\n",
    "\n",
    "* If you trained a model in a past python session, you can load the trained model but first you have to <b>define and initialize it again</b>. \n",
    "```python\n",
    " network = ...\n",
    " \n",
    " modelname.DNN(network)    \n",
    " modelname.load('modelname.tflearn')\n",
    " modelname.predict(X)\n",
    "```\n",
    "\n",
    "\n",
    "* Define the directory to store the tensorboard log files by adding it as a parameter when initializing the model.\n",
    "```python\n",
    " tflearn.models.dnn.DNN (network, clip_gradients=5.0, tensorboard_verbose=0, \n",
    " tensorboard_dir='/tmp/tflearn_logs/', checkpoint_path=None, best_checkpoint_path=None, max_checkpoints=None, session=None, best_val_accuracy=0.0)\n",
    "```\n",
    "* Use <b>Tensorbaord</b> to visualize network and performance:\n",
    "Open the command prompt or the anaconda prompt (or a terminal for linux/iOS) and in the working directory type:\n",
    "``` $ tensorboard --logdir='...' ```\n",
    "* You may need to add tensorboard's script to your SYSTEM'S PATH to be able to launch it. \n",
    "* Use model's method <b>predict</b> to evaluate a test sample. \n",
    "```python \n",
    "modelname.predict(X) ```\n",
    "\n",
    "* <b>If you are using the tensorflow 2 it is possible to run tensorboad using the jupyter notebook. </b>\n",
    "In a jupyter cell type: ``` %tensorboard --logdir logs ```.\n",
    "For more information look [here](https://www.tensorflow.org/tensorboard/tensorboard_in_notebooks)\n",
    "\n",
    "* If you have strange tflearn errors, restart the python kernel and <b> re-run only the cells concerning your task you currently work (i.e. run the cells concerning only the current tfmodel). Sometimes you cannot load two different tfmodels at the same python session.</b>.\n",
    "\n",
    "(*) Depending the version of tflearn/tensorflow you are working some commands might differ. Please look online for recent documentation."
   ]
  },
  {
   "cell_type": "markdown",
   "metadata": {
    "deletable": false,
    "nbgrader": {
     "checksum": "8d6d8b691a25bac726e81fb9f5593de9",
     "grade": false,
     "grade_id": "cell-e3701a8ed58211ce",
     "locked": true,
     "schema_version": 1,
     "solution": false
    }
   },
   "source": [
    "### Some Tensorboard examples.\n",
    "Here are some examples of a training session. After each task, expand accuracy and loss graphs and attach them in the next cell of the notebook like we did in this exmple."
   ]
  },
  {
   "cell_type": "markdown",
   "metadata": {
    "deletable": false,
    "nbgrader": {
     "checksum": "6d3fdb9f0dbaf340f3a3cb972204745a",
     "grade": false,
     "grade_id": "cell-3399b1ef562b5cc9",
     "locked": true,
     "schema_version": 1,
     "solution": false
    }
   },
   "source": [
    "<img src=\"screenshots_tensorboard/all_graphs.png\">\n",
    "<img src=\"screenshots_tensorboard/accuracy_graph.png\">\n",
    "<img src=\"screenshots_tensorboard/loss_graph.png\">"
   ]
  },
  {
   "cell_type": "markdown",
   "metadata": {
    "deletable": false,
    "nbgrader": {
     "checksum": "839c62166cf59b1aba0ebb12f7e38d6d",
     "grade": false,
     "grade_id": "cell-d5025d3539123bdb",
     "locked": true,
     "schema_version": 1,
     "solution": false
    }
   },
   "source": [
    "### Task 1: Load Data from the numpy binary files (from Part 1)\n",
    "Use the numpy load function to load the data created in the previous part of the exercise. The data has to be reshaped in a specific way (see code below) in order to be compatible with the tflearn neural network input standard. After the data is successfully loaded, plot any patch and its ground truth as image title to verify that data is correctly represented."
   ]
  },
  {
   "cell_type": "code",
   "execution_count": 16,
   "metadata": {},
   "outputs": [
    {
     "name": "stdout",
     "output_type": "stream",
     "text": [
      "(2083, 20, 20)\n",
      "(232, 20, 20)\n",
      "(2083, 2)\n",
      "(232, 2)\n"
     ]
    }
   ],
   "source": [
    "# Code for Part 2: Task 1\n",
    "\n",
    "# Loading data\n",
    "\n",
    "data_train = np.load(\"data_train.npy\")\n",
    "data_test = np.load(\"data_test.npy\")\n",
    "labels_train = np.load(\"labels_train.npy\")\n",
    "labels_test = np.load(\"labels_test.npy\")\n",
    "print(data_train.shape)\n",
    "print(data_test.shape)\n",
    "print(labels_train.shape)\n",
    "print(labels_test.shape)"
   ]
  },
  {
   "cell_type": "code",
   "execution_count": 17,
   "metadata": {},
   "outputs": [
    {
     "name": "stdout",
     "output_type": "stream",
     "text": [
      "(2083, 20, 20, 1)\n",
      "(232, 20, 20, 1)\n"
     ]
    }
   ],
   "source": [
    "# Reshaping data\n",
    "\n",
    "X = data_train.reshape(-1,data_train.shape[1],data_train.shape[2],1)\n",
    "#print(X)\n",
    "print(X.shape)\n",
    "X_val = data_test.reshape(-1,data_test.shape[1],data_test.shape[2],1)\n",
    "#print(X_val)\n",
    "print(X_val.shape)"
   ]
  },
  {
   "cell_type": "code",
   "execution_count": 18,
   "metadata": {},
   "outputs": [
    {
     "data": {
      "image/png": "[encoded data removed]",
      "text/plain": [
       "<Figure size 432x288 with 1 Axes>"
      ]
     },
     "metadata": {
      "needs_background": "light"
     },
     "output_type": "display_data"
    }
   ],
   "source": [
    "# Plotting a patch and ground truth from image title\n",
    "\n",
    "def get_prediction_string(prediction):\n",
    "    return \"Positive\" if prediction == 0 else \"Negative\"\n",
    "\n",
    "def show_single_image(image, title_image = \"\"):\n",
    "    plt.title(title_image)\n",
    "    plt.imshow(image, cmap=plt.cm.Greys_r)\n",
    "    return plt.show()\n",
    "\n",
    "chosen = 4 \n",
    "image = data_train[chosen]\n",
    "label = labels_train[chosen]\n",
    "pred = get_prediction_string(np.argmax(label))\n",
    "show_single_image(image, pred)"
   ]
  },
  {
   "cell_type": "markdown",
   "metadata": {
    "deletable": false,
    "editable": false,
    "nbgrader": {
     "checksum": "0d1106dc6ff56598fb4c8afd41d9061f",
     "grade": false,
     "grade_id": "cell-0afd5980978d0695",
     "locked": true,
     "schema_version": 1,
     "solution": false
    }
   },
   "source": [
    "### Task 2: Artificial Neural Networks (1 layer)\n",
    "First, lets train our classifier using an artificial neural network with just one layer, a fully connected one. This layer will have *softmax* as activation function. \n",
    "\n",
    "The main advantage of using this activation function is the output range. The range of the outputs will be [0,1] and the sum of all the probabilities will be equal to one. Generally, if the softmax function is used for a  multi-classiication model it returns the probabilities of each class and the target class will have the high probability.\n",
    "\n",
    "Using TFLearn, define your model. Use these hyperparameters:\n",
    "* Learning Rate = 1e-4\n",
    "* Batch Size = 8\n",
    "\n",
    "Since the network is small, it is not recommended to use Dropout. Train first for 1-2 epochs to verify that everything works and then train for ~10 epochs. Observe the training and evaluate graphs from Tensorboard to decide when to stop training. Copy these graphs to your notebook and explain what happens.\n",
    "\n",
    "To evaluate the trained model, test it with the test samples and use various performance measures, like <b>confusion matrix</b> for different decision thresholds, <b>precision/recall</b> versus the decision threshold graph and finally plot a **ROC** curve. \n",
    "\n",
    "Explain these graphs and the ROC curve. What role does the decision threshold play and why it is so important? Can we have a single value as the decision threshold? Why?\n",
    "\n",
    "### Tip:\n",
    "* It is highly recommended to write all the tasks in functions and have as an input argument your tfmodel. Then you will be able to re-use them in the next tasks for different tfmodels."
   ]
  },
  {
   "cell_type": "markdown",
   "metadata": {},
   "source": [
    "ANSWER HERE"
   ]
  },
  {
   "cell_type": "code",
   "execution_count": 19,
   "metadata": {},
   "outputs": [
    {
     "name": "stdout",
     "output_type": "stream",
     "text": [
      "WARNING:tensorflow:From C:\\Users\\ferba\\Anaconda3\\lib\\site-packages\\tflearn\\layers\\core.py:81: The name tf.placeholder is deprecated. Please use tf.compat.v1.placeholder instead.\n",
      "\n",
      "WARNING:tensorflow:From C:\\Users\\ferba\\Anaconda3\\lib\\site-packages\\tflearn\\initializations.py:174: calling TruncatedNormal.__init__ (from tensorflow.python.ops.init_ops) with dtype is deprecated and will be removed in a future version.\n",
      "Instructions for updating:\n",
      "Call initializer instance with the dtype argument instead of passing it to the constructor\n",
      "WARNING:tensorflow:From C:\\Users\\ferba\\Anaconda3\\lib\\site-packages\\tflearn\\optimizers.py:238: The name tf.train.AdamOptimizer is deprecated. Please use tf.compat.v1.train.AdamOptimizer instead.\n",
      "\n",
      "WARNING:tensorflow:From C:\\Users\\ferba\\Anaconda3\\lib\\site-packages\\tflearn\\objectives.py:66: calling reduce_sum_v1 (from tensorflow.python.ops.math_ops) with keep_dims is deprecated and will be removed in a future version.\n",
      "Instructions for updating:\n",
      "keep_dims is deprecated, use keepdims instead\n",
      "WARNING:tensorflow:From C:\\Users\\ferba\\Anaconda3\\lib\\site-packages\\tflearn\\summaries.py:46: The name tf.summary.scalar is deprecated. Please use tf.compat.v1.summary.scalar instead.\n",
      "\n",
      "WARNING:tensorflow:From C:\\Users\\ferba\\Anaconda3\\lib\\site-packages\\tensorflow\\python\\ops\\math_grad.py:1250: add_dispatch_support.<locals>.wrapper (from tensorflow.python.ops.array_ops) is deprecated and will be removed in a future version.\n",
      "Instructions for updating:\n",
      "Use tf.where in 2.0, which has the same broadcast rule as np.where\n",
      "WARNING:tensorflow:From C:\\Users\\ferba\\Anaconda3\\lib\\site-packages\\tflearn\\helpers\\trainer.py:134: The name tf.train.Saver is deprecated. Please use tf.compat.v1.train.Saver instead.\n",
      "\n",
      "---------\n",
      "Variables: name (type shape) [size]\n",
      "---------\n",
      "FullyConnected/W:0 (float32_ref 400x2) [800, bytes: 3200]\n",
      "FullyConnected/b:0 (float32_ref 2) [2, bytes: 8]\n",
      "Total size of variables: 802\n",
      "Total bytes of variables: 3208\n"
     ]
    }
   ],
   "source": [
    "# Code for Part 2: Task 2\n",
    "\n",
    "tf.reset_default_graph()\n",
    "\n",
    "# Build neural network\n",
    "net = tflearn.input_data(shape=[None,20,20,1])\n",
    "net = tflearn.fully_connected(net, 2, activation='softmax')\n",
    "net = tflearn.regression(net,learning_rate=1e-4)\n",
    "\n",
    "# Define model\n",
    "model = tflearn.DNN(net)\n",
    "\n",
    "# Model summary\n",
    "def model_summary():\n",
    "    model_vars = tf.trainable_variables()\n",
    "    slim.model_analyzer.analyze_vars(model_vars, print_info=True)\n",
    "\n",
    "model_summary()"
   ]
  },
  {
   "cell_type": "code",
   "execution_count": 20,
   "metadata": {},
   "outputs": [
    {
     "name": "stdout",
     "output_type": "stream",
     "text": [
      "Training Step: 2609  | total loss: \u001b[1m\u001b[32m0.59225\u001b[0m\u001b[0m | time: 0.567s\n",
      "| Adam | epoch: 010 | loss: 0.59225 - acc: 0.6298 -- iter: 2080/2083\n",
      "Training Step: 2610  | total loss: \u001b[1m\u001b[32m0.58333\u001b[0m\u001b[0m | time: 1.572s\n",
      "| Adam | epoch: 010 | loss: 0.58333 - acc: 0.6668 | val_loss: 0.56056 - val_acc: 0.7155 -- iter: 2083/2083\n",
      "--\n"
     ]
    },
    {
     "data": {
      "text/plain": [
       "<tflearn.models.dnn.DNN at 0x1ded391a808>"
      ]
     },
     "execution_count": 20,
     "metadata": {},
     "output_type": "execute_result"
    }
   ],
   "source": [
    "# Clear any logs from previous runs\n",
    "!rm -rf ./logs/\n",
    "\n",
    "# Train model\n",
    "model.fit(X, labels_train, validation_set=(X_val, labels_test), n_epoch=10, batch_size=8, show_metric=True, run_id=\"model1\")\n",
    "tflearn.models.dnn.DNN (net, clip_gradients=5.0, tensorboard_verbose=0, tensorboard_dir='/tmp/tflearn_logs/', checkpoint_path=None, best_checkpoint_path=None, max_checkpoints=None, session=None, best_val_accuracy=0.0)"
   ]
  },
  {
   "cell_type": "code",
   "execution_count": 21,
   "metadata": {},
   "outputs": [],
   "source": [
    "# Tensorboard\n",
    "%load_ext tensorboard"
   ]
  },
  {
   "cell_type": "code",
   "execution_count": 22,
   "metadata": {},
   "outputs": [
    {
     "data": {
      "text/plain": [
       "Reusing TensorBoard on port 6006 (pid 10300), started 2 days, 5:18:08 ago. (Use '!kill 10300' to kill it.)"
      ]
     },
     "metadata": {},
     "output_type": "display_data"
    },
    {
     "data": {
      "text/html": [
       "\n",
       "        <iframe\n",
       "            width=\"100%\"\n",
       "            height=\"800\"\n",
       "            src=\"http://localhost:6006\"\n",
       "            frameborder=\"0\"\n",
       "            allowfullscreen\n",
       "        ></iframe>\n",
       "        "
      ],
      "text/plain": [
       "<IPython.lib.display.IFrame at 0x1ded558a308>"
      ]
     },
     "metadata": {},
     "output_type": "display_data"
    }
   ],
   "source": [
    "%reload_ext tensorboard\n",
    "%tensorboard --logdir '/tmp/tflearn_logs/'"
   ]
  },
  {
   "cell_type": "markdown",
   "metadata": {},
   "source": [
    "##### Graphs"
   ]
  },
  {
   "cell_type": "markdown",
   "metadata": {},
   "source": [
    "###### General view\n",
    "\n",
    "<img src=\"screenshots_wpo4/01_Model1_ss.JPG\">\n",
    "\n",
    "###### Accuracy\n",
    "\n",
    "<img src=\"screenshots_wpo4/01_Model1_acc.JPG\">\n",
    "\n",
    "###### Loss\n",
    "\n",
    "<img src=\"screenshots_wpo4/01_Model1_loss.JPG\">"
   ]
  },
  {
   "cell_type": "markdown",
   "metadata": {
    "deletable": false,
    "editable": false,
    "nbgrader": {
     "checksum": "729112bb739cb27832f2c27f1d3d3c5a",
     "grade": false,
     "grade_id": "cell-ec3cbbcde6634b2d",
     "locked": true,
     "schema_version": 1,
     "solution": false
    }
   },
   "source": [
    "### Task 3: Test the model\n",
    "Use **predict** method to test a single test sample. Plot the patch and include in the title its ground truth and the prediction. Now, test all the test samples using a for loop and print the accuracy for a decision threshold of 0.5. Additionally, print the **confusion matrix** for the same decision threshold and comment on your findings. Do you think it's necessary to investigate our system's performance by setting different decision thresholds? What performance measurement should we use?"
   ]
  },
  {
   "cell_type": "markdown",
   "metadata": {},
   "source": [
    "ANSWER HERE"
   ]
  },
  {
   "cell_type": "code",
   "execution_count": 23,
   "metadata": {},
   "outputs": [],
   "source": [
    "# Code for Part 2: Task 3"
   ]
  },
  {
   "cell_type": "code",
   "execution_count": 24,
   "metadata": {},
   "outputs": [
    {
     "name": "stdout",
     "output_type": "stream",
     "text": [
      "Test accuracy: 71.5517%\n"
     ]
    }
   ],
   "source": [
    "# Evaluating the model to obtain accuracy\n",
    "\n",
    "score = model.evaluate(X_val, labels_test)\n",
    "\n",
    "print('Test accuracy: %0.4f%%' % (score[0] * 100))"
   ]
  },
  {
   "cell_type": "code",
   "execution_count": 25,
   "metadata": {},
   "outputs": [],
   "source": [
    "# Model prediction\n",
    "\n",
    "pred = model.predict(X_val)\n",
    "pred = (pred > 0.5)\n",
    "# print(pred)"
   ]
  },
  {
   "cell_type": "code",
   "execution_count": 26,
   "metadata": {},
   "outputs": [
    {
     "data": {
      "text/plain": [
       "'Negative'"
      ]
     },
     "execution_count": 26,
     "metadata": {},
     "output_type": "execute_result"
    }
   ],
   "source": [
    "# Model prediction for one sample\n",
    "\n",
    "# Selected sample:\n",
    "sel_sam = 2\n",
    "label = get_prediction_string(labels_test[sel_sam].argmax())\n",
    "label"
   ]
  },
  {
   "cell_type": "markdown",
   "metadata": {},
   "source": [
    "Now we can make a prediction of a patch, in order to do this first we get an image from the testing data. After that we make the prediction of the image and compare it with the actual label of the image. As it can be seen the model correctly predicts the patch."
   ]
  },
  {
   "cell_type": "code",
   "execution_count": 27,
   "metadata": {},
   "outputs": [
    {
     "data": {
      "text/plain": [
       "'Positive'"
      ]
     },
     "execution_count": 27,
     "metadata": {},
     "output_type": "execute_result"
    }
   ],
   "source": [
    "#Patch prediction\n",
    "\n",
    "image_pred = X_val[sel_sam]\n",
    "pred_im = model.predict(np.array([image_pred]))\n",
    "pred_im = (pred_im > 0.5)\n",
    "\n",
    "prediction = get_prediction_string(pred_im.argmax())\n",
    "prediction"
   ]
  },
  {
   "cell_type": "code",
   "execution_count": 28,
   "metadata": {},
   "outputs": [
    {
     "data": {
      "image/png": "[encoded data removed]",
      "text/plain": [
       "<Figure size 432x288 with 1 Axes>"
      ]
     },
     "metadata": {
      "needs_background": "light"
     },
     "output_type": "display_data"
    }
   ],
   "source": [
    "show_single_image(image_pred.reshape(20,20), \"Prediction : {0}. Ground Truth: {1}\".format(prediction, label))"
   ]
  },
  {
   "cell_type": "markdown",
   "metadata": {},
   "source": [
    "We can obtain certain metrics to evaluate how good our model is."
   ]
  },
  {
   "cell_type": "markdown",
   "metadata": {},
   "source": [
    "##### Confusion Matrix"
   ]
  },
  {
   "cell_type": "code",
   "execution_count": 29,
   "metadata": {},
   "outputs": [
    {
     "name": "stdout",
     "output_type": "stream",
     "text": [
      "[[86 26]\n",
      " [40 80]]\n"
     ]
    }
   ],
   "source": [
    "labels_test_array = np.array(labels_test)\n",
    "\n",
    "cm = confusion_matrix(labels_test_array.argmax(axis=1), pred.argmax(axis=1))\n",
    "print(cm)"
   ]
  },
  {
   "cell_type": "code",
   "execution_count": 30,
   "metadata": {},
   "outputs": [
    {
     "name": "stdout",
     "output_type": "stream",
     "text": [
      "0.7155172413793104\n"
     ]
    }
   ],
   "source": [
    "tn, fp, fn, tp = cm.ravel()\n",
    "accuracy = (tp+tn)/(tp+tn+fp+fn)\n",
    "print(accuracy)"
   ]
  },
  {
   "cell_type": "markdown",
   "metadata": {},
   "source": [
    "##### Precision and recall"
   ]
  },
  {
   "cell_type": "code",
   "execution_count": 31,
   "metadata": {},
   "outputs": [
    {
     "name": "stdout",
     "output_type": "stream",
     "text": [
      "Average precision-recall score: 0.68\n"
     ]
    }
   ],
   "source": [
    "average_precision = average_precision_score(labels_test_array.argmax(axis=1), pred.argmax(axis=1))\n",
    "\n",
    "print('Average precision-recall score: {0:0.2f}'.format(\n",
    "      average_precision))"
   ]
  },
  {
   "cell_type": "code",
   "execution_count": 32,
   "metadata": {},
   "outputs": [],
   "source": [
    "pos_probs = model.predict(X_val)\n",
    "pos_probs = pos_probs[:,1]\n",
    "\n",
    "# print(pos_probs.shape)\n",
    "# print(labels_test.argmax(axis=1).shape)\n",
    "\n",
    "precision, recall, thresholds = precision_recall_curve(labels_test.argmax(axis=1), pos_probs)\n",
    "\n",
    "# print(precision)\n",
    "# print(recall)\n",
    "# print(thresholds)"
   ]
  },
  {
   "cell_type": "code",
   "execution_count": 33,
   "metadata": {},
   "outputs": [
    {
     "name": "stdout",
     "output_type": "stream",
     "text": [
      "Positive precision: 75.47\n"
     ]
    }
   ],
   "source": [
    "precisionman = tp*100/(tp+fp)\n",
    "print('Positive precision: {0:0.2f}'.format(\n",
    "      precisionman))"
   ]
  },
  {
   "cell_type": "code",
   "execution_count": 34,
   "metadata": {},
   "outputs": [
    {
     "name": "stdout",
     "output_type": "stream",
     "text": [
      "Positive recall: 66.67\n"
     ]
    }
   ],
   "source": [
    "recallman = tp*100/(tp+fn)\n",
    "print('Positive recall: {0:0.2f}'.format(\n",
    "      recallman))"
   ]
  },
  {
   "cell_type": "markdown",
   "metadata": {},
   "source": [
    "#### Full metrics report"
   ]
  },
  {
   "cell_type": "code",
   "execution_count": 35,
   "metadata": {},
   "outputs": [
    {
     "name": "stdout",
     "output_type": "stream",
     "text": [
      "              precision    recall  f1-score   support\n",
      "\n",
      "    negative       0.68      0.77      0.72       112\n",
      "    positive       0.75      0.67      0.71       120\n",
      "\n",
      "   micro avg       0.72      0.72      0.72       232\n",
      "   macro avg       0.72      0.72      0.72       232\n",
      "weighted avg       0.72      0.72      0.72       232\n",
      " samples avg       0.72      0.72      0.72       232\n",
      "\n"
     ]
    }
   ],
   "source": [
    "print(classification_report(labels_test_array, pred,  target_names = [\"negative\",\"positive\"]))"
   ]
  },
  {
   "cell_type": "markdown",
   "metadata": {
    "deletable": false,
    "editable": false,
    "nbgrader": {
     "checksum": "c2d112b399d5f76d26eb16384424a219",
     "grade": false,
     "grade_id": "cell-bfdd83f2ba53424c",
     "locked": true,
     "schema_version": 1,
     "solution": false
    }
   },
   "source": [
    "Print the ROC curve and comment."
   ]
  },
  {
   "cell_type": "markdown",
   "metadata": {
    "collapsed": true
   },
   "source": [
    "As we can see from the ROC curve, the classifer is able to discriminate positive and negative labels with high probability. The area below the curve can tell us the probability that our model will correcly discriminate corectly positive and negative samples."
   ]
  },
  {
   "cell_type": "code",
   "execution_count": 36,
   "metadata": {},
   "outputs": [],
   "source": [
    "# Code for Part 2: Task 3 - ROC"
   ]
  },
  {
   "cell_type": "markdown",
   "metadata": {},
   "source": [
    "##### ROC curve"
   ]
  },
  {
   "cell_type": "code",
   "execution_count": 37,
   "metadata": {},
   "outputs": [
    {
     "name": "stdout",
     "output_type": "stream",
     "text": [
      "[0.         0.23214286 1.        ]\n",
      "[0.         0.66666667 1.        ]\n",
      "[2 1 0]\n",
      "0.7172619047619047\n"
     ]
    }
   ],
   "source": [
    "fpr, tpr, thresholds = roc_curve(labels_test_array.argmax(axis=1), pred.argmax(axis=1))\n",
    "auc1 = auc(fpr, tpr)\n",
    "print(fpr)\n",
    "print(tpr)\n",
    "print(thresholds)\n",
    "print(auc1)"
   ]
  },
  {
   "cell_type": "code",
   "execution_count": 39,
   "metadata": {},
   "outputs": [
    {
     "data": {
      "image/png": "[encoded data removed]",
      "text/plain": [
       "<Figure size 432x288 with 1 Axes>"
      ]
     },
     "metadata": {
      "needs_background": "light"
     },
     "output_type": "display_data"
    }
   ],
   "source": [
    "plt.figure(1)\n",
    "plt.plot([0, 1], [0, 1], 'k--')\n",
    "plt.plot(fpr, tpr, label='Keras (area auc = {:.3f})'.format(auc1))\n",
    "plt.xlabel('False positive rate')\n",
    "plt.ylabel('True positive rate')\n",
    "plt.title('ROC curve')\n",
    "plt.legend(loc='best')\n",
    "plt.show()"
   ]
  },
  {
   "cell_type": "markdown",
   "metadata": {},
   "source": [
    "##### Precision-recall curve"
   ]
  },
  {
   "cell_type": "code",
   "execution_count": 40,
   "metadata": {},
   "outputs": [
    {
     "data": {
      "image/png": "[encoded data removed]",
      "text/plain": [
       "<Figure size 432x288 with 1 Axes>"
      ]
     },
     "metadata": {
      "needs_background": "light"
     },
     "output_type": "display_data"
    }
   ],
   "source": [
    "no_skill = len(labels_test_array[labels_test_array.argmax(axis=1)==1]) / len(labels_test_array)\n",
    "plt.plot(recall, precision, marker='.', label='NN')\n",
    "plt.plot([0, 1], [no_skill, no_skill], linestyle='--', label='No Skill')\n",
    "plt.xlabel('Recall')\n",
    "plt.ylabel('Precision')\n",
    "plt.legend()\n",
    "# show the plot\n",
    "plt.show()"
   ]
  },
  {
   "cell_type": "markdown",
   "metadata": {
    "deletable": false,
    "editable": false,
    "nbgrader": {
     "checksum": "d82ad9587727760dd790c5846e9ba05f",
     "grade": false,
     "grade_id": "cell-ec462a6ad2168c48",
     "locked": true,
     "schema_version": 1,
     "solution": false
    }
   },
   "source": [
    "### Task 4.1: Artificial Neural Networks (3 layers) - Let's go deep!\n",
    "\n",
    "Let's try 3 fully-connected layers using **sigmoid** activation function. Choose different values for the learning rate, number of epochs and batch size (e.g. 10, 20, 30...). \n",
    "\n",
    "Here is an example network but you are free to choose your own network.\n",
    "* 1st FC with 80 neurons, sigmoid/relu\n",
    "* 2nd FC with 40 neurons, sigmoid/relu\n",
    "* 3rd FC with 2 neurons and softmax\n",
    "* optimizer: sgd or adam or ...\n",
    "\n",
    "Explain your network's architecture and **test** your system as you did for the previous simple neural network. What do you observation? Print some graphs which indicate **underfitting** and **overfitting**. "
   ]
  },
  {
   "cell_type": "code",
   "execution_count": 41,
   "metadata": {},
   "outputs": [
    {
     "name": "stdout",
     "output_type": "stream",
     "text": [
      "---------\n",
      "Variables: name (type shape) [size]\n",
      "---------\n",
      "FullyConnected/W:0 (float32_ref 400x80) [32000, bytes: 128000]\n",
      "FullyConnected/b:0 (float32_ref 80) [80, bytes: 320]\n",
      "FullyConnected_1/W:0 (float32_ref 80x40) [3200, bytes: 12800]\n",
      "FullyConnected_1/b:0 (float32_ref 40) [40, bytes: 160]\n",
      "FullyConnected_2/W:0 (float32_ref 40x2) [80, bytes: 320]\n",
      "FullyConnected_2/b:0 (float32_ref 2) [2, bytes: 8]\n",
      "Total size of variables: 35402\n",
      "Total bytes of variables: 141608\n"
     ]
    }
   ],
   "source": [
    "# Code for Part 2: Task 4.1\n",
    "\n",
    "tf.reset_default_graph()\n",
    "\n",
    "# Build neural network\n",
    "net41 = tflearn.input_data(shape=[None,20,20,1])\n",
    "net41 = tflearn.fully_connected(net41, 80, activation='sigmoid')\n",
    "net41 = tflearn.fully_connected(net41, 40, activation='relu')\n",
    "net41 = tflearn.fully_connected(net41, 2, activation='softmax')\n",
    "net41 = tflearn.regression(net41, optimizer='adam', learning_rate=1e-4)\n",
    "\n",
    "# Define model\n",
    "model41 = tflearn.DNN(net41)\n",
    "\n",
    "# Model summary\n",
    "def model_summary():\n",
    "    model_vars = tf.trainable_variables()\n",
    "    slim.model_analyzer.analyze_vars(model_vars, print_info=True)\n",
    "\n",
    "model_summary()"
   ]
  },
  {
   "cell_type": "code",
   "execution_count": 42,
   "metadata": {},
   "outputs": [
    {
     "name": "stdout",
     "output_type": "stream",
     "text": [
      "Training Step: 2609  | total loss: \u001b[1m\u001b[32m0.41644\u001b[0m\u001b[0m | time: 1.608s\n",
      "| Adam | epoch: 010 | loss: 0.41644 - acc: 0.8039 -- iter: 2080/2083\n",
      "Training Step: 2610  | total loss: \u001b[1m\u001b[32m0.44693\u001b[0m\u001b[0m | time: 1.610s\n",
      "| Adam | epoch: 010 | loss: 0.44693 - acc: 0.7735 -- iter: 2083/2083\n",
      "--\n",
      "INFO:tensorflow:C:\\Users\\ferba\\Documents\\Jupyter_notebook\\WPO4\\WPO4\\model41_3l.tflearn is not in all_model_checkpoint_paths. Manually adding it.\n"
     ]
    }
   ],
   "source": [
    "# Clear any logs from previous runs\n",
    "!rm -rf ./logs41/ \n",
    "\n",
    "# Train model\n",
    "model41.fit(X, labels_train, n_epoch=10, batch_size=8, show_metric=True, run_id=\"model41\")\n",
    "tflearn.models.dnn.DNN (net41, clip_gradients=5.0, tensorboard_verbose=0, tensorboard_dir='/tmp/tflearn_logs/', checkpoint_path=None, best_checkpoint_path=None, max_checkpoints=None, session=None, best_val_accuracy=0.0)\n",
    "\n",
    "model41.save('model41_3l.tflearn')"
   ]
  },
  {
   "cell_type": "code",
   "execution_count": 43,
   "metadata": {},
   "outputs": [
    {
     "data": {
      "text/plain": [
       "Reusing TensorBoard on port 6006 (pid 21396), started 3 days, 18:39:26 ago. (Use '!kill 21396' to kill it.)"
      ]
     },
     "metadata": {},
     "output_type": "display_data"
    },
    {
     "data": {
      "text/html": [
       "\n",
       "        <iframe\n",
       "            width=\"100%\"\n",
       "            height=\"800\"\n",
       "            src=\"http://localhost:6006\"\n",
       "            frameborder=\"0\"\n",
       "            allowfullscreen\n",
       "        ></iframe>\n",
       "        "
      ],
      "text/plain": [
       "<IPython.lib.display.IFrame at 0x1ded29fcd08>"
      ]
     },
     "metadata": {},
     "output_type": "display_data"
    }
   ],
   "source": [
    "%reload_ext tensorboard\n",
    "%tensorboard --logdir='/tmp/tflearn_logs/'"
   ]
  },
  {
   "cell_type": "markdown",
   "metadata": {},
   "source": [
    "##### Graphs"
   ]
  },
  {
   "cell_type": "markdown",
   "metadata": {},
   "source": [
    "###### General view\n",
    "\n",
    "<img src=\"screenshots_wpo4/02_Model41_3lay.JPG\">\n",
    "\n",
    "###### Accuracy\n",
    "\n",
    "<img src=\"screenshots_wpo4/02_Model41_acc.JPG\">\n",
    "\n",
    "###### Loss\n",
    "\n",
    "<img src=\"screenshots_wpo4/02_Model41_loss.JPG\">"
   ]
  },
  {
   "cell_type": "markdown",
   "metadata": {},
   "source": [
    "##### Testing the model"
   ]
  },
  {
   "cell_type": "code",
   "execution_count": 44,
   "metadata": {},
   "outputs": [
    {
     "name": "stdout",
     "output_type": "stream",
     "text": [
      "Test accuracy: 75.4310%\n"
     ]
    }
   ],
   "source": [
    "# Evaluating the model to obtain accuracy\n",
    "\n",
    "score = model41.evaluate(X_val, labels_test)\n",
    "\n",
    "print('Test accuracy: %0.4f%%' % (score[0] * 100))"
   ]
  },
  {
   "cell_type": "code",
   "execution_count": 45,
   "metadata": {},
   "outputs": [],
   "source": [
    "# Model prediction\n",
    "\n",
    "pred = model41.predict(X_val)\n",
    "pred = (pred > 0.5)\n",
    "# print(pred)"
   ]
  },
  {
   "cell_type": "code",
   "execution_count": 51,
   "metadata": {},
   "outputs": [
    {
     "data": {
      "text/plain": [
       "'Negative'"
      ]
     },
     "execution_count": 51,
     "metadata": {},
     "output_type": "execute_result"
    }
   ],
   "source": [
    "# Model prediction for one sample\n",
    "\n",
    "# Selected sample:\n",
    "sel_sam = 10\n",
    "label = get_prediction_string(labels_test[sel_sam].argmax())\n",
    "label"
   ]
  },
  {
   "cell_type": "code",
   "execution_count": 52,
   "metadata": {},
   "outputs": [
    {
     "data": {
      "text/plain": [
       "'Negative'"
      ]
     },
     "execution_count": 52,
     "metadata": {},
     "output_type": "execute_result"
    }
   ],
   "source": [
    "# Patch prediction\n",
    "\n",
    "image_pred = X_val[sel_sam]\n",
    "pred_im = model.predict(np.array([image_pred]))\n",
    "pred_im = (pred_im > 0.5)\n",
    "\n",
    "prediction = get_prediction_string(pred_im.argmax())\n",
    "prediction"
   ]
  },
  {
   "cell_type": "code",
   "execution_count": 53,
   "metadata": {},
   "outputs": [
    {
     "data": {
      "image/png": "[encoded data removed]",
      "text/plain": [
       "<Figure size 432x288 with 1 Axes>"
      ]
     },
     "metadata": {
      "needs_background": "light"
     },
     "output_type": "display_data"
    }
   ],
   "source": [
    "show_single_image(image_pred.reshape(20,20), \"Prediction : {0}. Ground Truth: {1}\".format(prediction, label))"
   ]
  },
  {
   "cell_type": "markdown",
   "metadata": {},
   "source": [
    "We can obtain certain metrics to evaluate how good our model is."
   ]
  },
  {
   "cell_type": "markdown",
   "metadata": {},
   "source": [
    "##### Confusion Matrix"
   ]
  },
  {
   "cell_type": "code",
   "execution_count": 54,
   "metadata": {},
   "outputs": [
    {
     "name": "stdout",
     "output_type": "stream",
     "text": [
      "[[77 35]\n",
      " [22 98]]\n"
     ]
    }
   ],
   "source": [
    "labels_test_array = np.array(labels_test)\n",
    "\n",
    "cm = confusion_matrix(labels_test_array.argmax(axis=1), pred.argmax(axis=1))\n",
    "print(cm)"
   ]
  },
  {
   "cell_type": "code",
   "execution_count": 55,
   "metadata": {},
   "outputs": [
    {
     "name": "stdout",
     "output_type": "stream",
     "text": [
      "0.7543103448275862\n"
     ]
    }
   ],
   "source": [
    "tn, fp, fn, tp = cm.ravel()\n",
    "accuracy = (tp+tn)/(tp+tn+fp+fn)\n",
    "print(accuracy)"
   ]
  },
  {
   "cell_type": "markdown",
   "metadata": {},
   "source": [
    "##### Precision and recall"
   ]
  },
  {
   "cell_type": "code",
   "execution_count": 56,
   "metadata": {},
   "outputs": [
    {
     "name": "stdout",
     "output_type": "stream",
     "text": [
      "Average precision-recall score: 0.70\n"
     ]
    }
   ],
   "source": [
    "average_precision = average_precision_score(labels_test_array.argmax(axis=1), pred.argmax(axis=1))\n",
    "\n",
    "print('Average precision-recall score: {0:0.2f}'.format(\n",
    "      average_precision))"
   ]
  },
  {
   "cell_type": "code",
   "execution_count": 57,
   "metadata": {},
   "outputs": [],
   "source": [
    "pos_probs = model41.predict(X_val)\n",
    "pos_probs = pos_probs[:,1]\n",
    "\n",
    "# print(pos_probs.shape)\n",
    "# print(labels_test.argmax(axis=1).shape)\n",
    "\n",
    "precision, recall, thresholds = precision_recall_curve(labels_test.argmax(axis=1), pos_probs)\n",
    "\n",
    "# print(precision)\n",
    "# print(recall)\n",
    "# print(thresholds)"
   ]
  },
  {
   "cell_type": "code",
   "execution_count": 58,
   "metadata": {},
   "outputs": [
    {
     "name": "stdout",
     "output_type": "stream",
     "text": [
      "Positive precision: 73.68\n"
     ]
    }
   ],
   "source": [
    "precisionman = tp*100/(tp+fp)\n",
    "print('Positive precision: {0:0.2f}'.format(\n",
    "      precisionman))"
   ]
  },
  {
   "cell_type": "code",
   "execution_count": 59,
   "metadata": {},
   "outputs": [
    {
     "name": "stdout",
     "output_type": "stream",
     "text": [
      "Positive recall: 81.67\n"
     ]
    }
   ],
   "source": [
    "recallman = tp*100/(tp+fn)\n",
    "print('Positive recall: {0:0.2f}'.format(\n",
    "      recallman))"
   ]
  },
  {
   "cell_type": "markdown",
   "metadata": {},
   "source": [
    "#### Full metrics report"
   ]
  },
  {
   "cell_type": "code",
   "execution_count": 60,
   "metadata": {
    "scrolled": true
   },
   "outputs": [
    {
     "name": "stdout",
     "output_type": "stream",
     "text": [
      "              precision    recall  f1-score   support\n",
      "\n",
      "    negative       0.78      0.69      0.73       112\n",
      "    positive       0.74      0.82      0.77       120\n",
      "\n",
      "   micro avg       0.75      0.75      0.75       232\n",
      "   macro avg       0.76      0.75      0.75       232\n",
      "weighted avg       0.76      0.75      0.75       232\n",
      " samples avg       0.75      0.75      0.75       232\n",
      "\n"
     ]
    }
   ],
   "source": [
    "print(classification_report(labels_test_array, pred,  target_names = [\"negative\",\"positive\"]))"
   ]
  },
  {
   "cell_type": "markdown",
   "metadata": {},
   "source": [
    "##### ROC curve"
   ]
  },
  {
   "cell_type": "code",
   "execution_count": 61,
   "metadata": {},
   "outputs": [
    {
     "name": "stdout",
     "output_type": "stream",
     "text": [
      "[0.     0.3125 1.    ]\n",
      "[0.         0.81666667 1.        ]\n",
      "[2 1 0]\n",
      "0.7520833333333333\n"
     ]
    }
   ],
   "source": [
    "fpr, tpr, thresholds = roc_curve(labels_test_array.argmax(axis=1), pred.argmax(axis=1))\n",
    "auc41 = auc(fpr, tpr)\n",
    "print(fpr)\n",
    "print(tpr)\n",
    "print(thresholds)\n",
    "print(auc41)"
   ]
  },
  {
   "cell_type": "code",
   "execution_count": 62,
   "metadata": {},
   "outputs": [
    {
     "data": {
      "image/png": "[encoded data removed]",
      "text/plain": [
       "<Figure size 432x288 with 1 Axes>"
      ]
     },
     "metadata": {
      "needs_background": "light"
     },
     "output_type": "display_data"
    }
   ],
   "source": [
    "plt.figure(1)\n",
    "plt.plot([0, 1], [0, 1], 'k--')\n",
    "plt.plot(fpr, tpr, label='Keras (area auc = {:.3f})'.format(auc41))\n",
    "plt.xlabel('False positive rate')\n",
    "plt.ylabel('True positive rate')\n",
    "plt.title('ROC curve')\n",
    "plt.legend(loc='best')\n",
    "plt.show()"
   ]
  },
  {
   "cell_type": "markdown",
   "metadata": {},
   "source": [
    "##### Precision-recall curve"
   ]
  },
  {
   "cell_type": "code",
   "execution_count": 63,
   "metadata": {
    "scrolled": true
   },
   "outputs": [
    {
     "data": {
      "image/png": "[encoded data removed]",
      "text/plain": [
       "<Figure size 432x288 with 1 Axes>"
      ]
     },
     "metadata": {
      "needs_background": "light"
     },
     "output_type": "display_data"
    }
   ],
   "source": [
    "no_skill = len(labels_test_array[labels_test_array.argmax(axis=1)==1]) / len(labels_test_array)\n",
    "plt.plot(recall, precision, marker='.', label='NN')\n",
    "plt.plot([0, 1], [no_skill, no_skill], linestyle='--', label='No Skill')\n",
    "plt.xlabel('Recall')\n",
    "plt.ylabel('Precision')\n",
    "plt.legend()\n",
    "# show the plot\n",
    "plt.show()"
   ]
  },
  {
   "cell_type": "markdown",
   "metadata": {
    "deletable": false,
    "editable": false,
    "nbgrader": {
     "checksum": "822f2a649d5f2f9cebf5cfb29e5681f1",
     "grade": false,
     "grade_id": "cell-2f4b91a56afdcffa",
     "locked": true,
     "schema_version": 1,
     "solution": false
    }
   },
   "source": [
    "### Task 4.2: Relu!\n",
    "RELU = Rectified Linear Unit\n",
    "\n",
    "Let's try the same network but using RELU instead of sigmoid now."
   ]
  },
  {
   "cell_type": "code",
   "execution_count": 64,
   "metadata": {},
   "outputs": [
    {
     "name": "stdout",
     "output_type": "stream",
     "text": [
      "---------\n",
      "Variables: name (type shape) [size]\n",
      "---------\n",
      "FullyConnected/W:0 (float32_ref 400x80) [32000, bytes: 128000]\n",
      "FullyConnected/b:0 (float32_ref 80) [80, bytes: 320]\n",
      "FullyConnected_1/W:0 (float32_ref 80x40) [3200, bytes: 12800]\n",
      "FullyConnected_1/b:0 (float32_ref 40) [40, bytes: 160]\n",
      "FullyConnected_2/W:0 (float32_ref 40x2) [80, bytes: 320]\n",
      "FullyConnected_2/b:0 (float32_ref 2) [2, bytes: 8]\n",
      "Total size of variables: 35402\n",
      "Total bytes of variables: 141608\n"
     ]
    }
   ],
   "source": [
    "# Code for Part 2: Task 4.2\n",
    "\n",
    "tf.reset_default_graph()\n",
    "\n",
    "# Build neural network\n",
    "net42 = tflearn.input_data(shape=[None,20,20,1])\n",
    "net42 = tflearn.fully_connected(net42, 80, activation='relu')\n",
    "net42 = tflearn.fully_connected(net42, 40, activation='relu')\n",
    "net42 = tflearn.fully_connected(net42, 2, activation='softmax')\n",
    "net42 = tflearn.regression(net42, optimizer='adam', learning_rate=1e-4)\n",
    "\n",
    "# Define model\n",
    "model42 = tflearn.DNN(net42)\n",
    "\n",
    "# Model summary\n",
    "def model_summary():\n",
    "    model_vars = tf.trainable_variables()\n",
    "    slim.model_analyzer.analyze_vars(model_vars, print_info=True)\n",
    "\n",
    "model_summary()"
   ]
  },
  {
   "cell_type": "code",
   "execution_count": 65,
   "metadata": {},
   "outputs": [
    {
     "name": "stdout",
     "output_type": "stream",
     "text": [
      "Training Step: 2609  | total loss: \u001b[1m\u001b[32m0.31420\u001b[0m\u001b[0m | time: 1.777s\n",
      "| Adam | epoch: 010 | loss: 0.31420 - acc: 0.8928 -- iter: 2080/2083\n",
      "Training Step: 2610  | total loss: \u001b[1m\u001b[32m0.31466\u001b[0m\u001b[0m | time: 1.785s\n",
      "| Adam | epoch: 010 | loss: 0.31466 - acc: 0.8911 -- iter: 2083/2083\n",
      "--\n",
      "INFO:tensorflow:C:\\Users\\ferba\\Documents\\Jupyter_notebook\\WPO4\\WPO4\\model42_relu.tflearn is not in all_model_checkpoint_paths. Manually adding it.\n"
     ]
    }
   ],
   "source": [
    "# Clear any logs from previous runs\n",
    "!rm -rf ./logs42/ \n",
    "\n",
    "# Train model\n",
    "model42.fit(X, labels_train, n_epoch=10, batch_size=8, show_metric=True, run_id=\"model42\")\n",
    "tflearn.models.dnn.DNN (net42, clip_gradients=5.0, tensorboard_verbose=0, tensorboard_dir='/tmp/tflearn_logs/', checkpoint_path=None, best_checkpoint_path=None, max_checkpoints=None, session=None, best_val_accuracy=0.0)\n",
    "\n",
    "model42.save('model42_relu.tflearn')"
   ]
  },
  {
   "cell_type": "code",
   "execution_count": 66,
   "metadata": {},
   "outputs": [
    {
     "data": {
      "text/plain": [
       "Reusing TensorBoard on port 6006 (pid 21396), started 3 days, 18:42:15 ago. (Use '!kill 21396' to kill it.)"
      ]
     },
     "metadata": {},
     "output_type": "display_data"
    },
    {
     "data": {
      "text/html": [
       "\n",
       "        <iframe\n",
       "            width=\"100%\"\n",
       "            height=\"800\"\n",
       "            src=\"http://localhost:6006\"\n",
       "            frameborder=\"0\"\n",
       "            allowfullscreen\n",
       "        ></iframe>\n",
       "        "
      ],
      "text/plain": [
       "<IPython.lib.display.IFrame at 0x1dec34c3d08>"
      ]
     },
     "metadata": {},
     "output_type": "display_data"
    }
   ],
   "source": [
    "%reload_ext tensorboard\n",
    "%tensorboard --logdir='/tmp/tflearn_logs/'"
   ]
  },
  {
   "cell_type": "markdown",
   "metadata": {},
   "source": [
    "##### Graphs"
   ]
  },
  {
   "cell_type": "markdown",
   "metadata": {},
   "source": [
    "###### General view\n",
    "\n",
    "<img src=\"screenshots_wpo4/03_Model42_relu.JPG\">\n",
    "\n",
    "###### Accuracy\n",
    "\n",
    "<img src=\"screenshots_wpo4/03_Model42_acc.JPG\">\n",
    "\n",
    "###### Loss\n",
    "\n",
    "<img src=\"screenshots_wpo4/03_Model42_loss.JPG\">"
   ]
  },
  {
   "cell_type": "markdown",
   "metadata": {},
   "source": [
    "##### Testing the model"
   ]
  },
  {
   "cell_type": "code",
   "execution_count": 67,
   "metadata": {},
   "outputs": [
    {
     "name": "stdout",
     "output_type": "stream",
     "text": [
      "Test accuracy: 90.9483%\n"
     ]
    }
   ],
   "source": [
    "# Evaluating the model to obtain accuracy\n",
    "\n",
    "score = model42.evaluate(X_val, labels_test)\n",
    "\n",
    "print('Test accuracy: %0.4f%%' % (score[0] * 100))"
   ]
  },
  {
   "cell_type": "code",
   "execution_count": 68,
   "metadata": {},
   "outputs": [],
   "source": [
    "# Model prediction\n",
    "\n",
    "pred = model42.predict(X_val)\n",
    "pred = (pred > 0.5)\n",
    "# print(pred)"
   ]
  },
  {
   "cell_type": "code",
   "execution_count": 69,
   "metadata": {},
   "outputs": [
    {
     "data": {
      "text/plain": [
       "'Negative'"
      ]
     },
     "execution_count": 69,
     "metadata": {},
     "output_type": "execute_result"
    }
   ],
   "source": [
    "# Model prediction for one sample\n",
    "\n",
    "# Selected sample:\n",
    "sel_sam = 2\n",
    "label = get_prediction_string(labels_test[sel_sam].argmax())\n",
    "label"
   ]
  },
  {
   "cell_type": "code",
   "execution_count": 70,
   "metadata": {},
   "outputs": [
    {
     "data": {
      "text/plain": [
       "'Negative'"
      ]
     },
     "execution_count": 70,
     "metadata": {},
     "output_type": "execute_result"
    }
   ],
   "source": [
    "# Patch prediction\n",
    "\n",
    "image_pred = X_val[sel_sam]\n",
    "pred_im = model42.predict(np.array([image_pred]))\n",
    "pred_im = (pred_im > 0.5)\n",
    "\n",
    "prediction = get_prediction_string(pred_im.argmax())\n",
    "prediction"
   ]
  },
  {
   "cell_type": "code",
   "execution_count": 71,
   "metadata": {},
   "outputs": [
    {
     "data": {
      "image/png": "[encoded data removed]",
      "text/plain": [
       "<Figure size 432x288 with 1 Axes>"
      ]
     },
     "metadata": {
      "needs_background": "light"
     },
     "output_type": "display_data"
    }
   ],
   "source": [
    "show_single_image(image_pred.reshape(20,20), \"Prediction : {0}. Ground Truth: {1}\".format(prediction, label))"
   ]
  },
  {
   "cell_type": "markdown",
   "metadata": {},
   "source": [
    "We can obtain certain metrics to evaluate how good our model is."
   ]
  },
  {
   "cell_type": "markdown",
   "metadata": {},
   "source": [
    "##### Confusion Matrix"
   ]
  },
  {
   "cell_type": "code",
   "execution_count": 72,
   "metadata": {},
   "outputs": [
    {
     "name": "stdout",
     "output_type": "stream",
     "text": [
      "[[101  11]\n",
      " [ 10 110]]\n"
     ]
    }
   ],
   "source": [
    "labels_test_array = np.array(labels_test)\n",
    "\n",
    "cm = confusion_matrix(labels_test_array.argmax(axis=1), pred.argmax(axis=1))\n",
    "print(cm)"
   ]
  },
  {
   "cell_type": "code",
   "execution_count": 73,
   "metadata": {},
   "outputs": [
    {
     "name": "stdout",
     "output_type": "stream",
     "text": [
      "0.9094827586206896\n"
     ]
    }
   ],
   "source": [
    "tn, fp, fn, tp = cm.ravel()\n",
    "accuracy = (tp+tn)/(tp+tn+fp+fn)\n",
    "print(accuracy)"
   ]
  },
  {
   "cell_type": "markdown",
   "metadata": {},
   "source": [
    "##### Precision and recall"
   ]
  },
  {
   "cell_type": "code",
   "execution_count": 74,
   "metadata": {},
   "outputs": [
    {
     "name": "stdout",
     "output_type": "stream",
     "text": [
      "Average precision-recall score: 0.88\n"
     ]
    }
   ],
   "source": [
    "average_precision = average_precision_score(labels_test_array.argmax(axis=1), pred.argmax(axis=1))\n",
    "\n",
    "print('Average precision-recall score: {0:0.2f}'.format(\n",
    "      average_precision))"
   ]
  },
  {
   "cell_type": "code",
   "execution_count": 75,
   "metadata": {},
   "outputs": [],
   "source": [
    "pos_probs = model42.predict(X_val)\n",
    "pos_probs = pos_probs[:,1]\n",
    "\n",
    "# print(pos_probs.shape)\n",
    "# print(labels_test.argmax(axis=1).shape)\n",
    "\n",
    "precision, recall, thresholds = precision_recall_curve(labels_test.argmax(axis=1), pos_probs)\n",
    "\n",
    "# print(precision)\n",
    "# print(recall)\n",
    "# print(thresholds)"
   ]
  },
  {
   "cell_type": "code",
   "execution_count": 76,
   "metadata": {},
   "outputs": [
    {
     "name": "stdout",
     "output_type": "stream",
     "text": [
      "Positive precision: 90.91\n"
     ]
    }
   ],
   "source": [
    "precisionman = tp*100/(tp+fp)\n",
    "print('Positive precision: {0:0.2f}'.format(\n",
    "      precisionman))"
   ]
  },
  {
   "cell_type": "code",
   "execution_count": 77,
   "metadata": {},
   "outputs": [
    {
     "name": "stdout",
     "output_type": "stream",
     "text": [
      "Positive recall: 91.67\n"
     ]
    }
   ],
   "source": [
    "recallman = tp*100/(tp+fn)\n",
    "print('Positive recall: {0:0.2f}'.format(\n",
    "      recallman))"
   ]
  },
  {
   "cell_type": "markdown",
   "metadata": {},
   "source": [
    "#### Full metrics report"
   ]
  },
  {
   "cell_type": "code",
   "execution_count": 78,
   "metadata": {
    "scrolled": false
   },
   "outputs": [
    {
     "name": "stdout",
     "output_type": "stream",
     "text": [
      "              precision    recall  f1-score   support\n",
      "\n",
      "    negative       0.91      0.90      0.91       112\n",
      "    positive       0.91      0.92      0.91       120\n",
      "\n",
      "   micro avg       0.91      0.91      0.91       232\n",
      "   macro avg       0.91      0.91      0.91       232\n",
      "weighted avg       0.91      0.91      0.91       232\n",
      " samples avg       0.91      0.91      0.91       232\n",
      "\n"
     ]
    }
   ],
   "source": [
    "print(classification_report(labels_test_array, pred,  target_names = [\"negative\",\"positive\"]))"
   ]
  },
  {
   "cell_type": "markdown",
   "metadata": {},
   "source": [
    "##### ROC curve"
   ]
  },
  {
   "cell_type": "code",
   "execution_count": 79,
   "metadata": {},
   "outputs": [
    {
     "name": "stdout",
     "output_type": "stream",
     "text": [
      "[0.         0.09821429 1.        ]\n",
      "[0.         0.91666667 1.        ]\n",
      "[2 1 0]\n",
      "0.9092261904761904\n"
     ]
    }
   ],
   "source": [
    "fpr, tpr, thresholds = roc_curve(labels_test_array.argmax(axis=1), pred.argmax(axis=1))\n",
    "auc42 = auc(fpr, tpr)\n",
    "print(fpr)\n",
    "print(tpr)\n",
    "print(thresholds)\n",
    "print(auc42)"
   ]
  },
  {
   "cell_type": "code",
   "execution_count": 81,
   "metadata": {},
   "outputs": [
    {
     "data": {
      "image/png": "[encoded data removed]",
      "text/plain": [
       "<Figure size 432x288 with 1 Axes>"
      ]
     },
     "metadata": {
      "needs_background": "light"
     },
     "output_type": "display_data"
    }
   ],
   "source": [
    "plt.figure(1)\n",
    "plt.plot([0, 1], [0, 1], 'k--')\n",
    "plt.plot(fpr, tpr, label='Keras (area auc = {:.3f})'.format(auc42))\n",
    "plt.xlabel('False positive rate')\n",
    "plt.ylabel('True positive rate')\n",
    "plt.title('ROC curve')\n",
    "plt.legend(loc='best')\n",
    "plt.show()"
   ]
  },
  {
   "cell_type": "markdown",
   "metadata": {},
   "source": [
    "##### Precision-recall curve"
   ]
  },
  {
   "cell_type": "code",
   "execution_count": 82,
   "metadata": {
    "scrolled": true
   },
   "outputs": [
    {
     "data": {
      "image/png": "[encoded data removed]",
      "text/plain": [
       "<Figure size 432x288 with 1 Axes>"
      ]
     },
     "metadata": {
      "needs_background": "light"
     },
     "output_type": "display_data"
    }
   ],
   "source": [
    "no_skill = len(labels_test_array[labels_test_array.argmax(axis=1)==1]) / len(labels_test_array)\n",
    "plt.plot(recall, precision, marker='.', label='NN')\n",
    "plt.plot([0, 1], [no_skill, no_skill], linestyle='--', label='No Skill')\n",
    "plt.xlabel('Recall')\n",
    "plt.ylabel('Precision')\n",
    "plt.legend()\n",
    "# show the plot\n",
    "plt.show()"
   ]
  },
  {
   "cell_type": "markdown",
   "metadata": {
    "deletable": false,
    "editable": false,
    "nbgrader": {
     "checksum": "9daeec5dcb3d381740aeac3613a7b8ba",
     "grade": false,
     "grade_id": "cell-a6394cf303cb2289",
     "locked": true,
     "schema_version": 1,
     "solution": false
    }
   },
   "source": [
    "### Task 4.3: Dropout!\n",
    "Use dropout. Some recommended values to investigate are 0.9, 0.5, 0.1. Explain the results."
   ]
  },
  {
   "cell_type": "markdown",
   "metadata": {},
   "source": [
    "ANSWER HERE"
   ]
  },
  {
   "cell_type": "code",
   "execution_count": 83,
   "metadata": {},
   "outputs": [
    {
     "name": "stdout",
     "output_type": "stream",
     "text": [
      "WARNING:tensorflow:From C:\\Users\\ferba\\Anaconda3\\lib\\site-packages\\tflearn\\layers\\core.py:239: calling dropout (from tensorflow.python.ops.nn_ops) with keep_prob is deprecated and will be removed in a future version.\n",
      "Instructions for updating:\n",
      "Please use `rate` instead of `keep_prob`. Rate should be set to `rate = 1 - keep_prob`.\n",
      "---------\n",
      "Variables: name (type shape) [size]\n",
      "---------\n",
      "FullyConnected/W:0 (float32_ref 400x80) [32000, bytes: 128000]\n",
      "FullyConnected/b:0 (float32_ref 80) [80, bytes: 320]\n",
      "FullyConnected_1/W:0 (float32_ref 80x40) [3200, bytes: 12800]\n",
      "FullyConnected_1/b:0 (float32_ref 40) [40, bytes: 160]\n",
      "FullyConnected_2/W:0 (float32_ref 40x2) [80, bytes: 320]\n",
      "FullyConnected_2/b:0 (float32_ref 2) [2, bytes: 8]\n",
      "Total size of variables: 35402\n",
      "Total bytes of variables: 141608\n"
     ]
    }
   ],
   "source": [
    "# Code for Part 2: Task 4.3\n",
    "\n",
    "tf.reset_default_graph()\n",
    "\n",
    "# Build neural network\n",
    "net43 = tflearn.input_data(shape=[None,20,20,1])\n",
    "net43 = tflearn.fully_connected(net43, 80, activation='relu')\n",
    "net43 = tflearn.fully_connected(net43, 40, activation='relu')\n",
    "net43 = tflearn.dropout(net43, 0.9) \n",
    "net43 = tflearn.fully_connected(net43, 2, activation='softmax')\n",
    "net43 = tflearn.regression(net43, optimizer='adam', learning_rate=1e-4)\n",
    "\n",
    "# Define model\n",
    "model43 = tflearn.DNN(net43)\n",
    "\n",
    "# Model summary\n",
    "def model_summary():\n",
    "    model_vars = tf.trainable_variables()\n",
    "    slim.model_analyzer.analyze_vars(model_vars, print_info=True)\n",
    "\n",
    "model_summary()"
   ]
  },
  {
   "cell_type": "code",
   "execution_count": 84,
   "metadata": {},
   "outputs": [
    {
     "name": "stdout",
     "output_type": "stream",
     "text": [
      "Training Step: 2609  | total loss: \u001b[1m\u001b[32m0.36854\u001b[0m\u001b[0m | time: 1.540s\n",
      "| Adam | epoch: 010 | loss: 0.36854 - acc: 0.8804 -- iter: 2080/2083\n",
      "Training Step: 2610  | total loss: \u001b[1m\u001b[32m0.35168\u001b[0m\u001b[0m | time: 1.551s\n",
      "| Adam | epoch: 010 | loss: 0.35168 - acc: 0.8923 -- iter: 2083/2083\n",
      "--\n",
      "INFO:tensorflow:C:\\Users\\ferba\\Documents\\Jupyter_notebook\\WPO4\\WPO4\\model43_relu.tflearn is not in all_model_checkpoint_paths. Manually adding it.\n"
     ]
    }
   ],
   "source": [
    "# Clear any logs from previous runs\n",
    "!rm -rf ./logs43/ \n",
    "\n",
    "# Train model\n",
    "model43.fit(X, labels_train, n_epoch=10, batch_size=8, show_metric=True, run_id=\"model43\")\n",
    "tflearn.models.dnn.DNN (net43, clip_gradients=5.0, tensorboard_verbose=0, tensorboard_dir='/tmp/tflearn_logs/', checkpoint_path=None, best_checkpoint_path=None, max_checkpoints=None, session=None, best_val_accuracy=0.0)\n",
    "\n",
    "model43.save('model43_relu.tflearn')"
   ]
  },
  {
   "cell_type": "code",
   "execution_count": 85,
   "metadata": {},
   "outputs": [
    {
     "data": {
      "text/plain": [
       "Reusing TensorBoard on port 6006 (pid 21396), started 3 days, 18:44:09 ago. (Use '!kill 21396' to kill it.)"
      ]
     },
     "metadata": {},
     "output_type": "display_data"
    },
    {
     "data": {
      "text/html": [
       "\n",
       "        <iframe\n",
       "            width=\"100%\"\n",
       "            height=\"800\"\n",
       "            src=\"http://localhost:6006\"\n",
       "            frameborder=\"0\"\n",
       "            allowfullscreen\n",
       "        ></iframe>\n",
       "        "
      ],
      "text/plain": [
       "<IPython.lib.display.IFrame at 0x1dee4e0fac8>"
      ]
     },
     "metadata": {},
     "output_type": "display_data"
    }
   ],
   "source": [
    "%reload_ext tensorboard\n",
    "%tensorboard --logdir='/tmp/tflearn_logs/'"
   ]
  },
  {
   "cell_type": "markdown",
   "metadata": {},
   "source": [
    "##### Graphs"
   ]
  },
  {
   "cell_type": "markdown",
   "metadata": {},
   "source": [
    "###### General view\n",
    "\n",
    "<img src=\"screenshots_wpo4/04_Model43_drop.JPG\">\n",
    "\n",
    "###### Accuracy\n",
    "\n",
    "<img src=\"screenshots_wpo4/04_Model43_acc.JPG\">\n",
    "\n",
    "###### Loss\n",
    "\n",
    "<img src=\"screenshots_wpo4/04_Model43_loss.JPG\">"
   ]
  },
  {
   "cell_type": "markdown",
   "metadata": {},
   "source": [
    "##### Testing the model"
   ]
  },
  {
   "cell_type": "code",
   "execution_count": 86,
   "metadata": {},
   "outputs": [
    {
     "name": "stdout",
     "output_type": "stream",
     "text": [
      "Test accuracy: 93.1034%\n"
     ]
    }
   ],
   "source": [
    "# Evaluating the model to obtain accuracy\n",
    "\n",
    "score = model43.evaluate(X_val, labels_test)\n",
    "\n",
    "print('Test accuracy: %0.4f%%' % (score[0] * 100))"
   ]
  },
  {
   "cell_type": "code",
   "execution_count": 87,
   "metadata": {},
   "outputs": [],
   "source": [
    "# Model prediction\n",
    "\n",
    "pred = model43.predict(X_val)\n",
    "pred = (pred > 0.5)\n",
    "# print(pred)"
   ]
  },
  {
   "cell_type": "code",
   "execution_count": 88,
   "metadata": {},
   "outputs": [
    {
     "data": {
      "text/plain": [
       "'Negative'"
      ]
     },
     "execution_count": 88,
     "metadata": {},
     "output_type": "execute_result"
    }
   ],
   "source": [
    "# Model prediction for one sample\n",
    "\n",
    "# Selected sample:\n",
    "sel_sam = 2\n",
    "label = get_prediction_string(labels_test[sel_sam].argmax())\n",
    "label"
   ]
  },
  {
   "cell_type": "code",
   "execution_count": 89,
   "metadata": {},
   "outputs": [
    {
     "data": {
      "text/plain": [
       "'Negative'"
      ]
     },
     "execution_count": 89,
     "metadata": {},
     "output_type": "execute_result"
    }
   ],
   "source": [
    "# Patch prediction\n",
    "\n",
    "image_pred = X_val[sel_sam]\n",
    "pred_im = model43.predict(np.array([image_pred]))\n",
    "pred_im = (pred_im > 0.5)\n",
    "\n",
    "prediction = get_prediction_string(pred_im.argmax())\n",
    "prediction"
   ]
  },
  {
   "cell_type": "code",
   "execution_count": 90,
   "metadata": {},
   "outputs": [
    {
     "data": {
      "image/png": "[encoded data removed]",
      "text/plain": [
       "<Figure size 432x288 with 1 Axes>"
      ]
     },
     "metadata": {
      "needs_background": "light"
     },
     "output_type": "display_data"
    }
   ],
   "source": [
    "show_single_image(image_pred.reshape(20,20), \"Prediction : {0}. Ground Truth: {1}\".format(prediction, label))"
   ]
  },
  {
   "cell_type": "markdown",
   "metadata": {},
   "source": [
    "We can obtain certain metrics to evaluate how good our model is."
   ]
  },
  {
   "cell_type": "markdown",
   "metadata": {},
   "source": [
    "##### Confusion Matrix"
   ]
  },
  {
   "cell_type": "code",
   "execution_count": 91,
   "metadata": {},
   "outputs": [
    {
     "name": "stdout",
     "output_type": "stream",
     "text": [
      "[[108   4]\n",
      " [ 12 108]]\n"
     ]
    }
   ],
   "source": [
    "labels_test_array = np.array(labels_test)\n",
    "\n",
    "cm = confusion_matrix(labels_test_array.argmax(axis=1), pred.argmax(axis=1))\n",
    "print(cm)"
   ]
  },
  {
   "cell_type": "code",
   "execution_count": 92,
   "metadata": {},
   "outputs": [
    {
     "name": "stdout",
     "output_type": "stream",
     "text": [
      "0.9310344827586207\n"
     ]
    }
   ],
   "source": [
    "tn, fp, fn, tp = cm.ravel()\n",
    "accuracy = (tp+tn)/(tp+tn+fp+fn)\n",
    "print(accuracy)"
   ]
  },
  {
   "cell_type": "markdown",
   "metadata": {},
   "source": [
    "##### Precision and recall"
   ]
  },
  {
   "cell_type": "code",
   "execution_count": 93,
   "metadata": {},
   "outputs": [
    {
     "name": "stdout",
     "output_type": "stream",
     "text": [
      "Average precision-recall score: 0.92\n"
     ]
    }
   ],
   "source": [
    "average_precision = average_precision_score(labels_test_array.argmax(axis=1), pred.argmax(axis=1))\n",
    "\n",
    "print('Average precision-recall score: {0:0.2f}'.format(\n",
    "      average_precision))"
   ]
  },
  {
   "cell_type": "code",
   "execution_count": 94,
   "metadata": {},
   "outputs": [],
   "source": [
    "pos_probs = model43.predict(X_val)\n",
    "pos_probs = pos_probs[:,1]\n",
    "\n",
    "# print(pos_probs.shape)\n",
    "# print(labels_test.argmax(axis=1).shape)\n",
    "\n",
    "precision, recall, thresholds = precision_recall_curve(labels_test.argmax(axis=1), pos_probs)\n",
    "\n",
    "# print(precision)\n",
    "# print(recall)\n",
    "# print(thresholds)"
   ]
  },
  {
   "cell_type": "code",
   "execution_count": 95,
   "metadata": {},
   "outputs": [
    {
     "name": "stdout",
     "output_type": "stream",
     "text": [
      "Positive precision: 96.43\n"
     ]
    }
   ],
   "source": [
    "precisionman = tp*100/(tp+fp)\n",
    "print('Positive precision: {0:0.2f}'.format(\n",
    "      precisionman))"
   ]
  },
  {
   "cell_type": "code",
   "execution_count": 96,
   "metadata": {},
   "outputs": [
    {
     "name": "stdout",
     "output_type": "stream",
     "text": [
      "Positive recall: 90.00\n"
     ]
    }
   ],
   "source": [
    "recallman = tp*100/(tp+fn)\n",
    "print('Positive recall: {0:0.2f}'.format(\n",
    "      recallman))"
   ]
  },
  {
   "cell_type": "markdown",
   "metadata": {},
   "source": [
    "#### Full metrics report"
   ]
  },
  {
   "cell_type": "code",
   "execution_count": 97,
   "metadata": {
    "scrolled": false
   },
   "outputs": [
    {
     "name": "stdout",
     "output_type": "stream",
     "text": [
      "              precision    recall  f1-score   support\n",
      "\n",
      "    negative       0.90      0.96      0.93       112\n",
      "    positive       0.96      0.90      0.93       120\n",
      "\n",
      "   micro avg       0.93      0.93      0.93       232\n",
      "   macro avg       0.93      0.93      0.93       232\n",
      "weighted avg       0.93      0.93      0.93       232\n",
      " samples avg       0.93      0.93      0.93       232\n",
      "\n"
     ]
    }
   ],
   "source": [
    "print(classification_report(labels_test_array, pred,  target_names = [\"negative\",\"positive\"]))"
   ]
  },
  {
   "cell_type": "markdown",
   "metadata": {},
   "source": [
    "##### ROC curve"
   ]
  },
  {
   "cell_type": "code",
   "execution_count": 98,
   "metadata": {},
   "outputs": [
    {
     "name": "stdout",
     "output_type": "stream",
     "text": [
      "[0.         0.03571429 1.        ]\n",
      "[0.  0.9 1. ]\n",
      "[2 1 0]\n",
      "0.9321428571428572\n"
     ]
    }
   ],
   "source": [
    "fpr, tpr, thresholds = roc_curve(labels_test_array.argmax(axis=1), pred.argmax(axis=1))\n",
    "auc43 = auc(fpr, tpr)\n",
    "print(fpr)\n",
    "print(tpr)\n",
    "print(thresholds)\n",
    "print(auc43)"
   ]
  },
  {
   "cell_type": "code",
   "execution_count": 99,
   "metadata": {},
   "outputs": [
    {
     "data": {
      "image/png": "[encoded data removed]",
      "text/plain": [
       "<Figure size 432x288 with 1 Axes>"
      ]
     },
     "metadata": {
      "needs_background": "light"
     },
     "output_type": "display_data"
    }
   ],
   "source": [
    "plt.figure(1)\n",
    "plt.plot([0, 1], [0, 1], 'k--')\n",
    "plt.plot(fpr, tpr, label='Keras (area auc = {:.3f})'.format(auc43))\n",
    "plt.xlabel('False positive rate')\n",
    "plt.ylabel('True positive rate')\n",
    "plt.title('ROC curve')\n",
    "plt.legend(loc='best')\n",
    "plt.show()"
   ]
  },
  {
   "cell_type": "markdown",
   "metadata": {},
   "source": [
    "##### Precision-recall curve"
   ]
  },
  {
   "cell_type": "code",
   "execution_count": 100,
   "metadata": {
    "scrolled": true
   },
   "outputs": [
    {
     "data": {
      "image/png": "[encoded data removed]",
      "text/plain": [
       "<Figure size 432x288 with 1 Axes>"
      ]
     },
     "metadata": {
      "needs_background": "light"
     },
     "output_type": "display_data"
    }
   ],
   "source": [
    "no_skill = len(labels_test_array[labels_test_array.argmax(axis=1)==1]) / len(labels_test_array)\n",
    "plt.plot(recall, precision, marker='.', label='NN')\n",
    "plt.plot([0, 1], [no_skill, no_skill], linestyle='--', label='No Skill')\n",
    "plt.xlabel('Recall')\n",
    "plt.ylabel('Precision')\n",
    "plt.legend()\n",
    "# show the plot\n",
    "plt.show()"
   ]
  },
  {
   "cell_type": "code",
   "execution_count": 101,
   "metadata": {},
   "outputs": [
    {
     "name": "stdout",
     "output_type": "stream",
     "text": [
      "---------\n",
      "Variables: name (type shape) [size]\n",
      "---------\n",
      "FullyConnected/W:0 (float32_ref 400x80) [32000, bytes: 128000]\n",
      "FullyConnected/b:0 (float32_ref 80) [80, bytes: 320]\n",
      "FullyConnected_1/W:0 (float32_ref 80x40) [3200, bytes: 12800]\n",
      "FullyConnected_1/b:0 (float32_ref 40) [40, bytes: 160]\n",
      "FullyConnected_2/W:0 (float32_ref 40x2) [80, bytes: 320]\n",
      "FullyConnected_2/b:0 (float32_ref 2) [2, bytes: 8]\n",
      "Total size of variables: 35402\n",
      "Total bytes of variables: 141608\n"
     ]
    }
   ],
   "source": [
    "# Different dropout\n",
    "\n",
    "tf.reset_default_graph()\n",
    "\n",
    "# Build neural network\n",
    "net44 = tflearn.input_data(shape=[None,20,20,1])\n",
    "net44 = tflearn.fully_connected(net44, 80, activation='relu')\n",
    "net44 = tflearn.fully_connected(net44, 40, activation='relu')\n",
    "net44 = tflearn.dropout(net44, 0.5) \n",
    "net44 = tflearn.fully_connected(net44, 2, activation='softmax')\n",
    "net44 = tflearn.regression(net44, optimizer='adam', learning_rate=1e-4)\n",
    "\n",
    "# Define model\n",
    "model44 = tflearn.DNN(net44)\n",
    "\n",
    "# Model summary\n",
    "def model_summary():\n",
    "    model_vars = tf.trainable_variables()\n",
    "    slim.model_analyzer.analyze_vars(model_vars, print_info=True)\n",
    "\n",
    "model_summary()"
   ]
  },
  {
   "cell_type": "code",
   "execution_count": 102,
   "metadata": {},
   "outputs": [
    {
     "name": "stdout",
     "output_type": "stream",
     "text": [
      "Training Step: 2609  | total loss: \u001b[1m\u001b[32m0.30064\u001b[0m\u001b[0m | time: 2.210s\n",
      "| Adam | epoch: 010 | loss: 0.30064 - acc: 0.9209 -- iter: 2080/2083\n",
      "Training Step: 2610  | total loss: \u001b[1m\u001b[32m0.33154\u001b[0m\u001b[0m | time: 2.213s\n",
      "| Adam | epoch: 010 | loss: 0.33154 - acc: 0.9038 -- iter: 2083/2083\n",
      "--\n",
      "INFO:tensorflow:C:\\Users\\ferba\\Documents\\Jupyter_notebook\\WPO4\\WPO4\\model_relu2.tflearn is not in all_model_checkpoint_paths. Manually adding it.\n"
     ]
    }
   ],
   "source": [
    "# Clear any logs from previous runs\n",
    "!rm -rf ./logs44/ \n",
    "\n",
    "# Train model\n",
    "model44.fit(X, labels_train, n_epoch=10, batch_size=8, show_metric=True, run_id=\"model44\")\n",
    "tflearn.models.dnn.DNN (net44, clip_gradients=5.0, tensorboard_verbose=0, tensorboard_dir='/tmp/tflearn_logs/', checkpoint_path=None, best_checkpoint_path=None, max_checkpoints=None, session=None, best_val_accuracy=0.0)\n",
    "\n",
    "model44.save('model_relu2.tflearn')"
   ]
  },
  {
   "cell_type": "code",
   "execution_count": 103,
   "metadata": {},
   "outputs": [
    {
     "data": {
      "text/plain": [
       "Reusing TensorBoard on port 6006 (pid 21396), started 3 days, 18:45:08 ago. (Use '!kill 21396' to kill it.)"
      ]
     },
     "metadata": {},
     "output_type": "display_data"
    },
    {
     "data": {
      "text/html": [
       "\n",
       "        <iframe\n",
       "            width=\"100%\"\n",
       "            height=\"800\"\n",
       "            src=\"http://localhost:6006\"\n",
       "            frameborder=\"0\"\n",
       "            allowfullscreen\n",
       "        ></iframe>\n",
       "        "
      ],
      "text/plain": [
       "<IPython.lib.display.IFrame at 0x1dee48ce088>"
      ]
     },
     "metadata": {},
     "output_type": "display_data"
    }
   ],
   "source": [
    "%reload_ext tensorboard\n",
    "%tensorboard --logdir='/tmp/tflearn_logs/'"
   ]
  },
  {
   "cell_type": "markdown",
   "metadata": {},
   "source": [
    "##### Graphs"
   ]
  },
  {
   "cell_type": "markdown",
   "metadata": {},
   "source": [
    "###### General view\n",
    "\n",
    "<img src=\"screenshots_wpo4/05_Model44_difdrop.JPG\">\n",
    "\n",
    "###### Accuracy\n",
    "\n",
    "<img src=\"screenshots_wpo4/05_Model44_acc.JPG\">\n",
    "\n",
    "###### Loss\n",
    "\n",
    "<img src=\"screenshots_wpo4/05_Model44_loss.JPG\">"
   ]
  },
  {
   "cell_type": "markdown",
   "metadata": {},
   "source": [
    "##### Testing the model"
   ]
  },
  {
   "cell_type": "code",
   "execution_count": 104,
   "metadata": {},
   "outputs": [
    {
     "name": "stdout",
     "output_type": "stream",
     "text": [
      "Test accuracy: 87.5000%\n"
     ]
    }
   ],
   "source": [
    "# Evaluating the model to obtain accuracy\n",
    "\n",
    "score = model44.evaluate(X_val, labels_test)\n",
    "\n",
    "print('Test accuracy: %0.4f%%' % (score[0] * 100))"
   ]
  },
  {
   "cell_type": "code",
   "execution_count": 105,
   "metadata": {},
   "outputs": [],
   "source": [
    "# Model prediction\n",
    "\n",
    "pred = model44.predict(X_val)\n",
    "pred = (pred > 0.5)\n",
    "# print(pred)"
   ]
  },
  {
   "cell_type": "code",
   "execution_count": 106,
   "metadata": {},
   "outputs": [
    {
     "data": {
      "text/plain": [
       "'Negative'"
      ]
     },
     "execution_count": 106,
     "metadata": {},
     "output_type": "execute_result"
    }
   ],
   "source": [
    "# Model prediction for one sample\n",
    "\n",
    "# Selected sample:\n",
    "sel_sam = 2\n",
    "label = get_prediction_string(labels_test[sel_sam].argmax())\n",
    "label"
   ]
  },
  {
   "cell_type": "code",
   "execution_count": 107,
   "metadata": {},
   "outputs": [
    {
     "data": {
      "text/plain": [
       "'Positive'"
      ]
     },
     "execution_count": 107,
     "metadata": {},
     "output_type": "execute_result"
    }
   ],
   "source": [
    "# Patch prediction\n",
    "\n",
    "image_pred = X_val[sel_sam]\n",
    "pred_im = model44.predict(np.array([image_pred]))\n",
    "pred_im = (pred_im > 0.5)\n",
    "\n",
    "prediction = get_prediction_string(pred_im.argmax())\n",
    "prediction"
   ]
  },
  {
   "cell_type": "code",
   "execution_count": 108,
   "metadata": {},
   "outputs": [
    {
     "data": {
      "image/png": "[encoded data removed]",
      "text/plain": [
       "<Figure size 432x288 with 1 Axes>"
      ]
     },
     "metadata": {
      "needs_background": "light"
     },
     "output_type": "display_data"
    }
   ],
   "source": [
    "show_single_image(image_pred.reshape(20,20), \"Prediction : {0}. Ground Truth: {1}\".format(prediction, label))"
   ]
  },
  {
   "cell_type": "markdown",
   "metadata": {},
   "source": [
    "We can obtain certain metrics to evaluate how good our model is."
   ]
  },
  {
   "cell_type": "markdown",
   "metadata": {},
   "source": [
    "##### Confusion Matrix"
   ]
  },
  {
   "cell_type": "code",
   "execution_count": 109,
   "metadata": {},
   "outputs": [
    {
     "name": "stdout",
     "output_type": "stream",
     "text": [
      "[[106   6]\n",
      " [ 23  97]]\n"
     ]
    }
   ],
   "source": [
    "labels_test_array = np.array(labels_test)\n",
    "\n",
    "cm = confusion_matrix(labels_test_array.argmax(axis=1), pred.argmax(axis=1))\n",
    "print(cm)"
   ]
  },
  {
   "cell_type": "code",
   "execution_count": 110,
   "metadata": {},
   "outputs": [
    {
     "name": "stdout",
     "output_type": "stream",
     "text": [
      "0.875\n"
     ]
    }
   ],
   "source": [
    "tn, fp, fn, tp = cm.ravel()\n",
    "accuracy = (tp+tn)/(tp+tn+fp+fn)\n",
    "print(accuracy)"
   ]
  },
  {
   "cell_type": "markdown",
   "metadata": {},
   "source": [
    "##### Precision and recall"
   ]
  },
  {
   "cell_type": "code",
   "execution_count": 111,
   "metadata": {},
   "outputs": [
    {
     "name": "stdout",
     "output_type": "stream",
     "text": [
      "Average precision-recall score: 0.86\n"
     ]
    }
   ],
   "source": [
    "average_precision = average_precision_score(labels_test_array.argmax(axis=1), pred.argmax(axis=1))\n",
    "\n",
    "print('Average precision-recall score: {0:0.2f}'.format(\n",
    "      average_precision))"
   ]
  },
  {
   "cell_type": "code",
   "execution_count": 112,
   "metadata": {},
   "outputs": [],
   "source": [
    "pos_probs = model44.predict(X_val)\n",
    "pos_probs = pos_probs[:,1]\n",
    "\n",
    "# print(pos_probs.shape)\n",
    "# print(labels_test.argmax(axis=1).shape)\n",
    "\n",
    "precision, recall, thresholds = precision_recall_curve(labels_test.argmax(axis=1), pos_probs)\n",
    "\n",
    "# print(precision)\n",
    "# print(recall)\n",
    "# print(thresholds)"
   ]
  },
  {
   "cell_type": "code",
   "execution_count": 113,
   "metadata": {},
   "outputs": [
    {
     "name": "stdout",
     "output_type": "stream",
     "text": [
      "Positive precision: 94.17\n"
     ]
    }
   ],
   "source": [
    "precisionman = tp*100/(tp+fp)\n",
    "print('Positive precision: {0:0.2f}'.format(\n",
    "      precisionman))"
   ]
  },
  {
   "cell_type": "code",
   "execution_count": 114,
   "metadata": {},
   "outputs": [
    {
     "name": "stdout",
     "output_type": "stream",
     "text": [
      "Positive recall: 80.83\n"
     ]
    }
   ],
   "source": [
    "recallman = tp*100/(tp+fn)\n",
    "print('Positive recall: {0:0.2f}'.format(\n",
    "      recallman))"
   ]
  },
  {
   "cell_type": "markdown",
   "metadata": {},
   "source": [
    "#### Full metrics report"
   ]
  },
  {
   "cell_type": "code",
   "execution_count": 115,
   "metadata": {
    "scrolled": false
   },
   "outputs": [
    {
     "name": "stdout",
     "output_type": "stream",
     "text": [
      "              precision    recall  f1-score   support\n",
      "\n",
      "    negative       0.82      0.95      0.88       112\n",
      "    positive       0.94      0.81      0.87       120\n",
      "\n",
      "   micro avg       0.88      0.88      0.88       232\n",
      "   macro avg       0.88      0.88      0.87       232\n",
      "weighted avg       0.88      0.88      0.87       232\n",
      " samples avg       0.88      0.88      0.88       232\n",
      "\n"
     ]
    }
   ],
   "source": [
    "print(classification_report(labels_test_array, pred,  target_names = [\"negative\",\"positive\"]))"
   ]
  },
  {
   "cell_type": "markdown",
   "metadata": {},
   "source": [
    "##### ROC curve"
   ]
  },
  {
   "cell_type": "code",
   "execution_count": 116,
   "metadata": {},
   "outputs": [
    {
     "name": "stdout",
     "output_type": "stream",
     "text": [
      "[0.         0.05357143 1.        ]\n",
      "[0.         0.80833333 1.        ]\n",
      "[2 1 0]\n",
      "0.8773809523809524\n"
     ]
    }
   ],
   "source": [
    "fpr, tpr, thresholds = roc_curve(labels_test_array.argmax(axis=1), pred.argmax(axis=1))\n",
    "auc44 = auc(fpr, tpr)\n",
    "print(fpr)\n",
    "print(tpr)\n",
    "print(thresholds)\n",
    "print(auc44)"
   ]
  },
  {
   "cell_type": "code",
   "execution_count": 117,
   "metadata": {},
   "outputs": [
    {
     "data": {
      "image/png": "[encoded data removed]",
      "text/plain": [
       "<Figure size 432x288 with 1 Axes>"
      ]
     },
     "metadata": {
      "needs_background": "light"
     },
     "output_type": "display_data"
    }
   ],
   "source": [
    "plt.figure(1)\n",
    "plt.plot([0, 1], [0, 1], 'k--')\n",
    "plt.plot(fpr, tpr, label='Keras (area auc = {:.3f})'.format(auc44))\n",
    "plt.xlabel('False positive rate')\n",
    "plt.ylabel('True positive rate')\n",
    "plt.title('ROC curve')\n",
    "plt.legend(loc='best')\n",
    "plt.show()"
   ]
  },
  {
   "cell_type": "markdown",
   "metadata": {},
   "source": [
    "##### Precision-recall curve"
   ]
  },
  {
   "cell_type": "code",
   "execution_count": 118,
   "metadata": {
    "scrolled": true
   },
   "outputs": [
    {
     "data": {
      "image/png": "[encoded data removed]",
      "text/plain": [
       "<Figure size 432x288 with 1 Axes>"
      ]
     },
     "metadata": {
      "needs_background": "light"
     },
     "output_type": "display_data"
    }
   ],
   "source": [
    "no_skill = len(labels_test_array[labels_test_array.argmax(axis=1)==1]) / len(labels_test_array)\n",
    "plt.plot(recall, precision, marker='.', label='NN')\n",
    "plt.plot([0, 1], [no_skill, no_skill], linestyle='--', label='No Skill')\n",
    "plt.xlabel('Recall')\n",
    "plt.ylabel('Precision')\n",
    "plt.legend()\n",
    "# show the plot\n",
    "plt.show()"
   ]
  },
  {
   "cell_type": "markdown",
   "metadata": {
    "deletable": false,
    "editable": false,
    "nbgrader": {
     "checksum": "c7c0f2e845aafc10ec8ad052d48e9119",
     "grade": false,
     "grade_id": "cell-2df072bbe1906a59",
     "locked": true,
     "schema_version": 1,
     "solution": false
    }
   },
   "source": [
    "### Task 5. A Convolutional Neural Network\n",
    "\n",
    "#### Model definition\n",
    "\n",
    "input -> conv1 -> pool1 -> conv2 -> fc1 -> fc2 -> softmax\n",
    "* convolution layers: kernel size = 3x3, number of channels = 64, activation function = sigmoid\n",
    "* max-pooling layers: kernel size = 2x2, strides = 2\n",
    "* 1st fully connected: 50 neurons, activation function = sigmoid\n",
    "* 2nd fully connected: 2 neurons, activation function = softmax\n",
    "* optimizer = sgd / adam\n",
    "* use dropout (e.g. 0.5)\n",
    "\n",
    "Like before, measure system's prerfomance and explain."
   ]
  },
  {
   "cell_type": "code",
   "execution_count": 119,
   "metadata": {},
   "outputs": [
    {
     "name": "stdout",
     "output_type": "stream",
     "text": [
      "WARNING:tensorflow:From C:\\Users\\ferba\\Anaconda3\\lib\\site-packages\\tflearn\\initializations.py:119: calling UniformUnitScaling.__init__ (from tensorflow.python.ops.init_ops) with dtype is deprecated and will be removed in a future version.\n",
      "Instructions for updating:\n",
      "Call initializer instance with the dtype argument instead of passing it to the constructor\n",
      "WARNING:tensorflow:From C:\\Users\\ferba\\Anaconda3\\lib\\site-packages\\tensorflow\\python\\util\\deprecation.py:507: UniformUnitScaling.__init__ (from tensorflow.python.ops.init_ops) is deprecated and will be removed in a future version.\n",
      "Instructions for updating:\n",
      "Use tf.initializers.variance_scaling instead with distribution=uniform to get equivalent behavior.\n",
      "WARNING:tensorflow:From C:\\Users\\ferba\\Anaconda3\\lib\\site-packages\\tflearn\\layers\\conv.py:552: The name tf.nn.max_pool is deprecated. Please use tf.nn.max_pool2d instead.\n",
      "\n",
      "---------\n",
      "Variables: name (type shape) [size]\n",
      "---------\n",
      "Conv2D/W:0 (float32_ref 3x3x1x64) [576, bytes: 2304]\n",
      "Conv2D/b:0 (float32_ref 64) [64, bytes: 256]\n",
      "Conv2D_1/W:0 (float32_ref 3x3x64x64) [36864, bytes: 147456]\n",
      "Conv2D_1/b:0 (float32_ref 64) [64, bytes: 256]\n",
      "FullyConnected/W:0 (float32_ref 6400x50) [320000, bytes: 1280000]\n",
      "FullyConnected/b:0 (float32_ref 50) [50, bytes: 200]\n",
      "FullyConnected_1/W:0 (float32_ref 50x2) [100, bytes: 400]\n",
      "FullyConnected_1/b:0 (float32_ref 2) [2, bytes: 8]\n",
      "Total size of variables: 357720\n",
      "Total bytes of variables: 1430880\n"
     ]
    }
   ],
   "source": [
    "# Code for Part 2: Task 5\n",
    "\n",
    "tf.reset_default_graph()\n",
    "\n",
    "# Build neural network\n",
    "net5 = tflearn.input_data(shape=[None,20,20,1])\n",
    "net5 = tflearn.conv_2d(net5, 64, 3, activation='sigmoid')\n",
    "net5 = tflearn.max_pool_2d(net5, 2)\n",
    "net5 = tflearn.conv_2d(net5, 64, 3, activation='sigmoid')\n",
    "net5 = tflearn.fully_connected(net5, 50, activation='sigmoid')\n",
    "net5 = tflearn.dropout(net5, 0.5)\n",
    "net5 = tflearn.fully_connected(net5, 2, activation='softmax')\n",
    "net5 = tflearn.regression(net5, optimizer='adam', learning_rate=1e-4, loss='categorical_crossentropy')\n",
    "\n",
    "# Define model\n",
    "model5 = tflearn.DNN(net5)\n",
    "\n",
    "# Model summary\n",
    "def model_summary():\n",
    "    model_vars = tf.trainable_variables()\n",
    "    slim.model_analyzer.analyze_vars(model_vars, print_info=True)\n",
    "\n",
    "model_summary()"
   ]
  },
  {
   "cell_type": "code",
   "execution_count": 120,
   "metadata": {},
   "outputs": [
    {
     "name": "stdout",
     "output_type": "stream",
     "text": [
      "Training Step: 2609  | total loss: \u001b[1m\u001b[32m0.40703\u001b[0m\u001b[0m | time: 4.037s\n",
      "| Adam | epoch: 010 | loss: 0.40703 - acc: 0.8190 -- iter: 2080/2083\n",
      "Training Step: 2610  | total loss: \u001b[1m\u001b[32m0.40364\u001b[0m\u001b[0m | time: 4.048s\n",
      "| Adam | epoch: 010 | loss: 0.40364 - acc: 0.8121 -- iter: 2083/2083\n",
      "--\n",
      "INFO:tensorflow:C:\\Users\\ferba\\Documents\\Jupyter_notebook\\WPO4\\WPO4\\model5_conv_sup.tflearn is not in all_model_checkpoint_paths. Manually adding it.\n"
     ]
    }
   ],
   "source": [
    "# Clear any logs from previous runs\n",
    "!rm -rf ./logs5/ \n",
    "\n",
    "# Train model\n",
    "model5.fit(X, labels_train, n_epoch=10, batch_size=8, show_metric=True, run_id=\"model5\")\n",
    "tflearn.models.dnn.DNN (net5, clip_gradients=5.0, tensorboard_verbose=0, tensorboard_dir='/tmp/tflearn_logs/', checkpoint_path=None, best_checkpoint_path=None, max_checkpoints=None, session=None, best_val_accuracy=0.0)\n",
    "\n",
    "model5.save('model5_conv_sup.tflearn')"
   ]
  },
  {
   "cell_type": "code",
   "execution_count": 121,
   "metadata": {},
   "outputs": [
    {
     "data": {
      "text/plain": [
       "Reusing TensorBoard on port 6006 (pid 21396), started 3 days, 18:46:20 ago. (Use '!kill 21396' to kill it.)"
      ]
     },
     "metadata": {},
     "output_type": "display_data"
    },
    {
     "data": {
      "text/html": [
       "\n",
       "        <iframe\n",
       "            width=\"100%\"\n",
       "            height=\"800\"\n",
       "            src=\"http://localhost:6006\"\n",
       "            frameborder=\"0\"\n",
       "            allowfullscreen\n",
       "        ></iframe>\n",
       "        "
      ],
      "text/plain": [
       "<IPython.lib.display.IFrame at 0x1deeb1c8188>"
      ]
     },
     "metadata": {},
     "output_type": "display_data"
    }
   ],
   "source": [
    "%reload_ext tensorboard\n",
    "%tensorboard --logdir='/tmp/tflearn_logs/'"
   ]
  },
  {
   "cell_type": "markdown",
   "metadata": {},
   "source": [
    "##### Graphs"
   ]
  },
  {
   "cell_type": "markdown",
   "metadata": {},
   "source": [
    "###### General view\n",
    "\n",
    "<img src=\"screenshots_wpo4/06_Model5_conv1.JPG\">\n",
    "\n",
    "###### Accuracy\n",
    "\n",
    "<img src=\"screenshots_wpo4/06_Model5_acc.JPG\">\n",
    "\n",
    "###### Loss\n",
    "\n",
    "<img src=\"screenshots_wpo4/06_Model5_loss.JPG\">"
   ]
  },
  {
   "cell_type": "code",
   "execution_count": 122,
   "metadata": {},
   "outputs": [
    {
     "name": "stdout",
     "output_type": "stream",
     "text": [
      "Test accuracy: 80.1724%\n"
     ]
    }
   ],
   "source": [
    "# Evaluating the model to obtain accuracy\n",
    "\n",
    "score = model5.evaluate(X_val, labels_test)\n",
    "\n",
    "print('Test accuracy: %0.4f%%' % (score[0] * 100))"
   ]
  },
  {
   "cell_type": "code",
   "execution_count": 123,
   "metadata": {},
   "outputs": [],
   "source": [
    "# Model prediction\n",
    "\n",
    "pred = model5.predict(X_val)\n",
    "pred = (pred > 0.5)\n",
    "# print(pred)"
   ]
  },
  {
   "cell_type": "code",
   "execution_count": 137,
   "metadata": {},
   "outputs": [
    {
     "data": {
      "text/plain": [
       "'Negative'"
      ]
     },
     "execution_count": 137,
     "metadata": {},
     "output_type": "execute_result"
    }
   ],
   "source": [
    "# Model prediction for one sample\n",
    "\n",
    "# Selected sample:\n",
    "sel_sam = 3\n",
    "label = get_prediction_string(labels_test[sel_sam].argmax())\n",
    "label"
   ]
  },
  {
   "cell_type": "code",
   "execution_count": 138,
   "metadata": {},
   "outputs": [
    {
     "data": {
      "text/plain": [
       "'Negative'"
      ]
     },
     "execution_count": 138,
     "metadata": {},
     "output_type": "execute_result"
    }
   ],
   "source": [
    "# Patch prediction\n",
    "\n",
    "image_pred = X_val[sel_sam]\n",
    "pred_im = model5.predict(np.array([image_pred]))\n",
    "pred_im = (pred_im > 0.5)\n",
    "\n",
    "prediction = get_prediction_string(pred_im.argmax())\n",
    "prediction"
   ]
  },
  {
   "cell_type": "code",
   "execution_count": 139,
   "metadata": {},
   "outputs": [
    {
     "data": {
      "image/png": "[encoded data removed]",
      "text/plain": [
       "<Figure size 432x288 with 1 Axes>"
      ]
     },
     "metadata": {
      "needs_background": "light"
     },
     "output_type": "display_data"
    }
   ],
   "source": [
    "show_single_image(image_pred.reshape(20,20), \"Prediction : {0}. Ground Truth: {1}\".format(prediction, label))"
   ]
  },
  {
   "cell_type": "markdown",
   "metadata": {},
   "source": [
    "We can obtain certain metrics to evaluate how good our model is."
   ]
  },
  {
   "cell_type": "markdown",
   "metadata": {},
   "source": [
    "##### Confusion Matrix"
   ]
  },
  {
   "cell_type": "code",
   "execution_count": 140,
   "metadata": {},
   "outputs": [
    {
     "name": "stdout",
     "output_type": "stream",
     "text": [
      "[[93 19]\n",
      " [27 93]]\n"
     ]
    }
   ],
   "source": [
    "labels_test_array = np.array(labels_test)\n",
    "\n",
    "cm = confusion_matrix(labels_test_array.argmax(axis=1), pred.argmax(axis=1))\n",
    "print(cm)"
   ]
  },
  {
   "cell_type": "code",
   "execution_count": 141,
   "metadata": {},
   "outputs": [
    {
     "name": "stdout",
     "output_type": "stream",
     "text": [
      "0.8017241379310345\n"
     ]
    }
   ],
   "source": [
    "tn, fp, fn, tp = cm.ravel()\n",
    "accuracy = (tp+tn)/(tp+tn+fp+fn)\n",
    "print(accuracy)"
   ]
  },
  {
   "cell_type": "markdown",
   "metadata": {},
   "source": [
    "##### Precision and recall"
   ]
  },
  {
   "cell_type": "code",
   "execution_count": 142,
   "metadata": {},
   "outputs": [
    {
     "name": "stdout",
     "output_type": "stream",
     "text": [
      "Average precision-recall score: 0.76\n"
     ]
    }
   ],
   "source": [
    "average_precision = average_precision_score(labels_test_array.argmax(axis=1), pred.argmax(axis=1))\n",
    "\n",
    "print('Average precision-recall score: {0:0.2f}'.format(\n",
    "      average_precision))"
   ]
  },
  {
   "cell_type": "code",
   "execution_count": 143,
   "metadata": {},
   "outputs": [],
   "source": [
    "pos_probs = model5.predict(X_val)\n",
    "pos_probs = pos_probs[:,1]\n",
    "\n",
    "# print(pos_probs.shape)\n",
    "# print(labels_test.argmax(axis=1).shape)\n",
    "\n",
    "precision, recall, thresholds = precision_recall_curve(labels_test.argmax(axis=1), pos_probs)\n",
    "\n",
    "# print(precision)\n",
    "# print(recall)\n",
    "# print(thresholds)"
   ]
  },
  {
   "cell_type": "code",
   "execution_count": 144,
   "metadata": {},
   "outputs": [
    {
     "name": "stdout",
     "output_type": "stream",
     "text": [
      "Positive precision: 83.04\n"
     ]
    }
   ],
   "source": [
    "precisionman = tp*100/(tp+fp)\n",
    "print('Positive precision: {0:0.2f}'.format(\n",
    "      precisionman))"
   ]
  },
  {
   "cell_type": "code",
   "execution_count": 145,
   "metadata": {},
   "outputs": [
    {
     "name": "stdout",
     "output_type": "stream",
     "text": [
      "Positive recall: 77.50\n"
     ]
    }
   ],
   "source": [
    "recallman = tp*100/(tp+fn)\n",
    "print('Positive recall: {0:0.2f}'.format(\n",
    "      recallman))"
   ]
  },
  {
   "cell_type": "markdown",
   "metadata": {},
   "source": [
    "#### Full metrics report"
   ]
  },
  {
   "cell_type": "code",
   "execution_count": 146,
   "metadata": {},
   "outputs": [
    {
     "name": "stdout",
     "output_type": "stream",
     "text": [
      "              precision    recall  f1-score   support\n",
      "\n",
      "    negative       0.78      0.83      0.80       112\n",
      "    positive       0.83      0.78      0.80       120\n",
      "\n",
      "   micro avg       0.80      0.80      0.80       232\n",
      "   macro avg       0.80      0.80      0.80       232\n",
      "weighted avg       0.80      0.80      0.80       232\n",
      " samples avg       0.80      0.80      0.80       232\n",
      "\n"
     ]
    }
   ],
   "source": [
    "print(classification_report(labels_test_array, pred,  target_names = [\"negative\",\"positive\"]))"
   ]
  },
  {
   "cell_type": "markdown",
   "metadata": {},
   "source": [
    "##### ROC curve"
   ]
  },
  {
   "cell_type": "code",
   "execution_count": 147,
   "metadata": {},
   "outputs": [
    {
     "name": "stdout",
     "output_type": "stream",
     "text": [
      "[0.         0.16964286 1.        ]\n",
      "[0.    0.775 1.   ]\n",
      "[2 1 0]\n",
      "0.8026785714285714\n"
     ]
    }
   ],
   "source": [
    "fpr, tpr, thresholds = roc_curve(labels_test_array.argmax(axis=1), pred.argmax(axis=1))\n",
    "auc5 = auc(fpr, tpr)\n",
    "print(fpr)\n",
    "print(tpr)\n",
    "print(thresholds)\n",
    "print(auc5)"
   ]
  },
  {
   "cell_type": "code",
   "execution_count": 148,
   "metadata": {},
   "outputs": [
    {
     "data": {
      "image/png": "[encoded data removed]",
      "text/plain": [
       "<Figure size 432x288 with 1 Axes>"
      ]
     },
     "metadata": {
      "needs_background": "light"
     },
     "output_type": "display_data"
    }
   ],
   "source": [
    "plt.figure(1)\n",
    "plt.plot([0, 1], [0, 1], 'k--')\n",
    "plt.plot(fpr, tpr, label='Keras (area auc = {:.3f})'.format(auc5))\n",
    "plt.xlabel('False positive rate')\n",
    "plt.ylabel('True positive rate')\n",
    "plt.title('ROC curve')\n",
    "plt.legend(loc='best')\n",
    "plt.show()"
   ]
  },
  {
   "cell_type": "markdown",
   "metadata": {},
   "source": [
    "##### Precision-recall curve"
   ]
  },
  {
   "cell_type": "code",
   "execution_count": 149,
   "metadata": {},
   "outputs": [
    {
     "data": {
      "image/png": "[encoded data removed]",
      "text/plain": [
       "<Figure size 432x288 with 1 Axes>"
      ]
     },
     "metadata": {
      "needs_background": "light"
     },
     "output_type": "display_data"
    }
   ],
   "source": [
    "no_skill = len(labels_test_array[labels_test_array.argmax(axis=1)==1]) / len(labels_test_array)\n",
    "plt.plot(recall, precision, marker='.', label='NN')\n",
    "plt.plot([0, 1], [no_skill, no_skill], linestyle='--', label='No Skill')\n",
    "plt.xlabel('Recall')\n",
    "plt.ylabel('Precision')\n",
    "plt.legend()\n",
    "# show the plot\n",
    "plt.show()"
   ]
  },
  {
   "cell_type": "markdown",
   "metadata": {
    "deletable": false,
    "editable": false,
    "nbgrader": {
     "checksum": "c7c0f2e845aafc10ec8ad052d48e9119",
     "grade": false,
     "grade_id": "cell-2df072bbe1906a59",
     "locked": true,
     "schema_version": 1,
     "solution": false
    }
   },
   "source": [
    "### Task 6. A Deeper Convolutional Neural Network\n",
    "\n",
    "#### Model definition\n",
    "\n",
    "input -> conv1 -> pool1 -> conv2 -> conv3 -> fc1 -> fc2 -> softmax\n",
    "* convolution layers: kernel size = 5x5, number of channels = 64, activation function = relu\n",
    "* max-pooling layers: kernel size = 2x2, strides = 2\n",
    "* 1st fully connected: 100 neurons, activation function = relu\n",
    "* 2nd fully connected: 2 neurons, activation function = softmax\n",
    "* optimizer = sgd / adam\n",
    "* use dropout (e.g. 0.5)\n",
    "\n",
    "Like before, measure system's prerfomance and explain."
   ]
  },
  {
   "cell_type": "code",
   "execution_count": 150,
   "metadata": {},
   "outputs": [
    {
     "name": "stdout",
     "output_type": "stream",
     "text": [
      "---------\n",
      "Variables: name (type shape) [size]\n",
      "---------\n",
      "Conv2D/W:0 (float32_ref 5x5x1x64) [1600, bytes: 6400]\n",
      "Conv2D/b:0 (float32_ref 64) [64, bytes: 256]\n",
      "Conv2D_1/W:0 (float32_ref 5x5x64x64) [102400, bytes: 409600]\n",
      "Conv2D_1/b:0 (float32_ref 64) [64, bytes: 256]\n",
      "Conv2D_2/W:0 (float32_ref 5x5x64x64) [102400, bytes: 409600]\n",
      "Conv2D_2/b:0 (float32_ref 64) [64, bytes: 256]\n",
      "FullyConnected/W:0 (float32_ref 6400x100) [640000, bytes: 2560000]\n",
      "FullyConnected/b:0 (float32_ref 100) [100, bytes: 400]\n",
      "FullyConnected_1/W:0 (float32_ref 100x2) [200, bytes: 800]\n",
      "FullyConnected_1/b:0 (float32_ref 2) [2, bytes: 8]\n",
      "Total size of variables: 846894\n",
      "Total bytes of variables: 3387576\n"
     ]
    }
   ],
   "source": [
    "# Code for Part 2: Task 6\n",
    "\n",
    "tf.reset_default_graph()\n",
    "\n",
    "# Build neural network\n",
    "net6 = tflearn.input_data(shape=[None,20,20,1])\n",
    "net6 = tflearn.conv_2d(net6, 64, 5, activation='relu')\n",
    "net6 = tflearn.max_pool_2d(net6, 2)\n",
    "net6 = tflearn.conv_2d(net6, 64, 5, activation='relu')\n",
    "net6 = tflearn.conv_2d(net6, 64, 5, activation='relu')\n",
    "net6 = tflearn.fully_connected(net6, 100, activation='relu')\n",
    "net6 = tflearn.dropout(net6, 0.5)\n",
    "net6 = tflearn.fully_connected(net6, 2, activation='softmax')\n",
    "net6 = tflearn.regression(net6, optimizer='adam', learning_rate=1e-4, loss='categorical_crossentropy')\n",
    "\n",
    "# Define model\n",
    "model6 = tflearn.DNN(net6)\n",
    "\n",
    "# Model summary\n",
    "def model_summary():\n",
    "    model_vars = tf.trainable_variables()\n",
    "    slim.model_analyzer.analyze_vars(model_vars, print_info=True)\n",
    "\n",
    "model_summary()"
   ]
  },
  {
   "cell_type": "code",
   "execution_count": 151,
   "metadata": {},
   "outputs": [
    {
     "name": "stdout",
     "output_type": "stream",
     "text": [
      "Training Step: 2609  | total loss: \u001b[1m\u001b[32m0.07784\u001b[0m\u001b[0m | time: 5.002s\n",
      "| Adam | epoch: 010 | loss: 0.07784 - acc: 0.9801 -- iter: 2080/2083\n",
      "Training Step: 2610  | total loss: \u001b[1m\u001b[32m0.07184\u001b[0m\u001b[0m | time: 5.021s\n",
      "| Adam | epoch: 010 | loss: 0.07184 - acc: 0.9821 -- iter: 2083/2083\n",
      "--\n",
      "INFO:tensorflow:C:\\Users\\ferba\\Documents\\Jupyter_notebook\\WPO4\\WPO4\\model6_conv_deep.tflearn is not in all_model_checkpoint_paths. Manually adding it.\n"
     ]
    }
   ],
   "source": [
    "# Clear any logs from previous runs\n",
    "!rm -rf ./logs/ \n",
    "\n",
    "# Train model\n",
    "model6.fit(X, labels_train, n_epoch=10, batch_size=8, show_metric=True, run_id=\"model6\")\n",
    "tflearn.models.dnn.DNN (net6, clip_gradients=5.0, tensorboard_verbose=0, tensorboard_dir='/tmp/tflearn_logs/', checkpoint_path=None, best_checkpoint_path=None, max_checkpoints=None, session=None, best_val_accuracy=0.0)\n",
    "\n",
    "model6.save('model6_conv_deep.tflearn')"
   ]
  },
  {
   "cell_type": "code",
   "execution_count": 152,
   "metadata": {},
   "outputs": [
    {
     "data": {
      "text/plain": [
       "Reusing TensorBoard on port 6006 (pid 21396), started 3 days, 18:48:24 ago. (Use '!kill 21396' to kill it.)"
      ]
     },
     "metadata": {},
     "output_type": "display_data"
    },
    {
     "data": {
      "text/html": [
       "\n",
       "        <iframe\n",
       "            width=\"100%\"\n",
       "            height=\"800\"\n",
       "            src=\"http://localhost:6006\"\n",
       "            frameborder=\"0\"\n",
       "            allowfullscreen\n",
       "        ></iframe>\n",
       "        "
      ],
      "text/plain": [
       "<IPython.lib.display.IFrame at 0x1def9abe908>"
      ]
     },
     "metadata": {},
     "output_type": "display_data"
    }
   ],
   "source": [
    "%reload_ext tensorboard\n",
    "%tensorboard --logdir='/tmp/tflearn_logs/'"
   ]
  },
  {
   "cell_type": "markdown",
   "metadata": {},
   "source": [
    "##### Graphs"
   ]
  },
  {
   "cell_type": "markdown",
   "metadata": {},
   "source": [
    "###### General view\n",
    "\n",
    "<img src=\"screenshots_wpo4/07_Model6_conv2.JPG\">\n",
    "\n",
    "###### Accuracy\n",
    "\n",
    "<img src=\"screenshots_wpo4/07_Model6_acc.JPG\">\n",
    "\n",
    "###### Loss\n",
    "\n",
    "<img src=\"screenshots_wpo4/07_Model6_loss.JPG\">"
   ]
  },
  {
   "cell_type": "code",
   "execution_count": 153,
   "metadata": {},
   "outputs": [
    {
     "name": "stdout",
     "output_type": "stream",
     "text": [
      "Test accuracy: 96.9828%\n"
     ]
    }
   ],
   "source": [
    "# Evaluating the model to obtain accuracy\n",
    "\n",
    "score = model6.evaluate(X_val, labels_test)\n",
    "\n",
    "print('Test accuracy: %0.4f%%' % (score[0] * 100))"
   ]
  },
  {
   "cell_type": "code",
   "execution_count": 154,
   "metadata": {},
   "outputs": [],
   "source": [
    "# Model prediction\n",
    "\n",
    "pred = model6.predict(X_val)\n",
    "pred = (pred > 0.5)\n",
    "# print(pred)"
   ]
  },
  {
   "cell_type": "code",
   "execution_count": 155,
   "metadata": {},
   "outputs": [
    {
     "data": {
      "text/plain": [
       "'Negative'"
      ]
     },
     "execution_count": 155,
     "metadata": {},
     "output_type": "execute_result"
    }
   ],
   "source": [
    "# Model prediction for one sample\n",
    "\n",
    "# Selected sample:\n",
    "sel_sam = 2\n",
    "label = get_prediction_string(labels_test[sel_sam].argmax())\n",
    "label"
   ]
  },
  {
   "cell_type": "code",
   "execution_count": 156,
   "metadata": {},
   "outputs": [
    {
     "data": {
      "text/plain": [
       "'Negative'"
      ]
     },
     "execution_count": 156,
     "metadata": {},
     "output_type": "execute_result"
    }
   ],
   "source": [
    "# Patch prediction\n",
    "\n",
    "image_pred = X_val[sel_sam]\n",
    "pred_im = model6.predict(np.array([image_pred]))\n",
    "pred_im = (pred_im > 0.5)\n",
    "\n",
    "prediction = get_prediction_string(pred_im.argmax())\n",
    "prediction"
   ]
  },
  {
   "cell_type": "code",
   "execution_count": 157,
   "metadata": {},
   "outputs": [
    {
     "data": {
      "image/png": "[encoded data removed]",
      "text/plain": [
       "<Figure size 432x288 with 1 Axes>"
      ]
     },
     "metadata": {
      "needs_background": "light"
     },
     "output_type": "display_data"
    }
   ],
   "source": [
    "show_single_image(image_pred.reshape(20,20), \"Prediction : {0}. Ground Truth: {1}\".format(prediction, label))"
   ]
  },
  {
   "cell_type": "markdown",
   "metadata": {},
   "source": [
    "We can obtain certain metrics to evaluate how good our model is."
   ]
  },
  {
   "cell_type": "markdown",
   "metadata": {},
   "source": [
    "##### Confusion Matrix"
   ]
  },
  {
   "cell_type": "code",
   "execution_count": 158,
   "metadata": {},
   "outputs": [
    {
     "name": "stdout",
     "output_type": "stream",
     "text": [
      "[[110   2]\n",
      " [  5 115]]\n"
     ]
    }
   ],
   "source": [
    "labels_test_array = np.array(labels_test)\n",
    "\n",
    "cm = confusion_matrix(labels_test_array.argmax(axis=1), pred.argmax(axis=1))\n",
    "print(cm)"
   ]
  },
  {
   "cell_type": "code",
   "execution_count": 159,
   "metadata": {},
   "outputs": [
    {
     "name": "stdout",
     "output_type": "stream",
     "text": [
      "0.9698275862068966\n"
     ]
    }
   ],
   "source": [
    "tn, fp, fn, tp = cm.ravel()\n",
    "accuracy = (tp+tn)/(tp+tn+fp+fn)\n",
    "print(accuracy)"
   ]
  },
  {
   "cell_type": "markdown",
   "metadata": {},
   "source": [
    "##### Precision and recall"
   ]
  },
  {
   "cell_type": "code",
   "execution_count": 160,
   "metadata": {},
   "outputs": [
    {
     "name": "stdout",
     "output_type": "stream",
     "text": [
      "Average precision-recall score: 0.96\n"
     ]
    }
   ],
   "source": [
    "average_precision = average_precision_score(labels_test_array.argmax(axis=1), pred.argmax(axis=1))\n",
    "\n",
    "print('Average precision-recall score: {0:0.2f}'.format(\n",
    "      average_precision))"
   ]
  },
  {
   "cell_type": "code",
   "execution_count": 161,
   "metadata": {},
   "outputs": [],
   "source": [
    "pos_probs = model6.predict(X_val)\n",
    "pos_probs = pos_probs[:,1]\n",
    "\n",
    "# print(pos_probs.shape)\n",
    "# print(labels_test.argmax(axis=1).shape)\n",
    "\n",
    "precision, recall, thresholds = precision_recall_curve(labels_test.argmax(axis=1), pos_probs)\n",
    "\n",
    "# print(precision)\n",
    "# print(recall)\n",
    "# print(thresholds)"
   ]
  },
  {
   "cell_type": "code",
   "execution_count": 162,
   "metadata": {},
   "outputs": [
    {
     "name": "stdout",
     "output_type": "stream",
     "text": [
      "Positive precision: 98.29\n"
     ]
    }
   ],
   "source": [
    "precisionman = tp*100/(tp+fp)\n",
    "print('Positive precision: {0:0.2f}'.format(\n",
    "      precisionman))"
   ]
  },
  {
   "cell_type": "code",
   "execution_count": 163,
   "metadata": {},
   "outputs": [
    {
     "name": "stdout",
     "output_type": "stream",
     "text": [
      "Positive recall: 95.83\n"
     ]
    }
   ],
   "source": [
    "recallman = tp*100/(tp+fn)\n",
    "print('Positive recall: {0:0.2f}'.format(\n",
    "      recallman))"
   ]
  },
  {
   "cell_type": "markdown",
   "metadata": {},
   "source": [
    "#### Full metrics report"
   ]
  },
  {
   "cell_type": "code",
   "execution_count": 164,
   "metadata": {},
   "outputs": [
    {
     "name": "stdout",
     "output_type": "stream",
     "text": [
      "              precision    recall  f1-score   support\n",
      "\n",
      "    negative       0.96      0.98      0.97       112\n",
      "    positive       0.98      0.96      0.97       120\n",
      "\n",
      "   micro avg       0.97      0.97      0.97       232\n",
      "   macro avg       0.97      0.97      0.97       232\n",
      "weighted avg       0.97      0.97      0.97       232\n",
      " samples avg       0.97      0.97      0.97       232\n",
      "\n"
     ]
    }
   ],
   "source": [
    "print(classification_report(labels_test_array, pred,  target_names = [\"negative\",\"positive\"]))"
   ]
  },
  {
   "cell_type": "markdown",
   "metadata": {},
   "source": [
    "##### ROC curve"
   ]
  },
  {
   "cell_type": "code",
   "execution_count": 165,
   "metadata": {},
   "outputs": [
    {
     "name": "stdout",
     "output_type": "stream",
     "text": [
      "[0.         0.01785714 1.        ]\n",
      "[0.         0.95833333 1.        ]\n",
      "[2 1 0]\n",
      "0.9702380952380953\n"
     ]
    }
   ],
   "source": [
    "fpr, tpr, thresholds = roc_curve(labels_test_array.argmax(axis=1), pred.argmax(axis=1))\n",
    "auc6 = auc(fpr, tpr)\n",
    "print(fpr)\n",
    "print(tpr)\n",
    "print(thresholds)\n",
    "print(auc6)"
   ]
  },
  {
   "cell_type": "code",
   "execution_count": 166,
   "metadata": {},
   "outputs": [
    {
     "data": {
      "image/png": "[encoded data removed]",
      "text/plain": [
       "<Figure size 432x288 with 1 Axes>"
      ]
     },
     "metadata": {
      "needs_background": "light"
     },
     "output_type": "display_data"
    }
   ],
   "source": [
    "plt.figure(1)\n",
    "plt.plot([0, 1], [0, 1], 'k--')\n",
    "plt.plot(fpr, tpr, label='Keras (area auc = {:.3f})'.format(auc6))\n",
    "plt.xlabel('False positive rate')\n",
    "plt.ylabel('True positive rate')\n",
    "plt.title('ROC curve')\n",
    "plt.legend(loc='best')\n",
    "plt.show()"
   ]
  },
  {
   "cell_type": "markdown",
   "metadata": {},
   "source": [
    "##### Precision-recall curve"
   ]
  },
  {
   "cell_type": "code",
   "execution_count": 167,
   "metadata": {},
   "outputs": [
    {
     "data": {
      "image/png": "[encoded data removed]",
      "text/plain": [
       "<Figure size 432x288 with 1 Axes>"
      ]
     },
     "metadata": {
      "needs_background": "light"
     },
     "output_type": "display_data"
    }
   ],
   "source": [
    "no_skill = len(labels_test_array[labels_test_array.argmax(axis=1)==1]) / len(labels_test_array)\n",
    "plt.plot(recall, precision, marker='.', label='NN')\n",
    "plt.plot([0, 1], [no_skill, no_skill], linestyle='--', label='No Skill')\n",
    "plt.xlabel('Recall')\n",
    "plt.ylabel('Precision')\n",
    "plt.legend()\n",
    "# show the plot\n",
    "plt.show()"
   ]
  },
  {
   "cell_type": "markdown",
   "metadata": {
    "deletable": false,
    "editable": false,
    "nbgrader": {
     "checksum": "c7c0f2e845aafc10ec8ad052d48e9119",
     "grade": false,
     "grade_id": "cell-2df072bbe1906a59",
     "locked": true,
     "schema_version": 1,
     "solution": false
    }
   },
   "source": [
    "### Task 7\n",
    "\n",
    "\n",
    "Comment the network differences between the two convolutional neural networks. Which ones do you think have the strongest impact in the network's perfomance? Justify your answer. \n",
    "\n",
    "An implementation of one or more networks might be necessary to answer this question."
   ]
  },
  {
   "cell_type": "code",
   "execution_count": 176,
   "metadata": {},
   "outputs": [],
   "source": [
    "\n",
    "# Code for Part 2: Task 7"
   ]
  },
  {
   "cell_type": "markdown",
   "metadata": {},
   "source": [
    "###### New Model definition\n",
    "\n",
    "input -> conv1 -> pool1 -> conv2 -> pool2 -> conv3 -> conv4 -> fc1 -> fc2 -> softmax"
   ]
  },
  {
   "cell_type": "code",
   "execution_count": 177,
   "metadata": {},
   "outputs": [
    {
     "name": "stdout",
     "output_type": "stream",
     "text": [
      "---------\n",
      "Variables: name (type shape) [size]\n",
      "---------\n",
      "Conv2D/W:0 (float32_ref 5x5x1x64) [1600, bytes: 6400]\n",
      "Conv2D/b:0 (float32_ref 64) [64, bytes: 256]\n",
      "Conv2D_1/W:0 (float32_ref 5x5x64x64) [102400, bytes: 409600]\n",
      "Conv2D_1/b:0 (float32_ref 64) [64, bytes: 256]\n",
      "Conv2D_2/W:0 (float32_ref 5x5x64x64) [102400, bytes: 409600]\n",
      "Conv2D_2/b:0 (float32_ref 64) [64, bytes: 256]\n",
      "Conv2D_3/W:0 (float32_ref 5x5x64x64) [102400, bytes: 409600]\n",
      "Conv2D_3/b:0 (float32_ref 64) [64, bytes: 256]\n",
      "FullyConnected/W:0 (float32_ref 1600x100) [160000, bytes: 640000]\n",
      "FullyConnected/b:0 (float32_ref 100) [100, bytes: 400]\n",
      "FullyConnected_1/W:0 (float32_ref 100x2) [200, bytes: 800]\n",
      "FullyConnected_1/b:0 (float32_ref 2) [2, bytes: 8]\n",
      "Total size of variables: 469358\n",
      "Total bytes of variables: 1877432\n"
     ]
    }
   ],
   "source": [
    "tf.reset_default_graph()\n",
    "\n",
    "# Build neural network\n",
    "net7 = tflearn.input_data(shape=[None,20,20,1])\n",
    "net7 = tflearn.conv_2d(net7, 64, 5, activation='relu')\n",
    "net7 = tflearn.max_pool_2d(net7, 2)\n",
    "net7 = tflearn.conv_2d(net7, 64, 5, activation='relu')\n",
    "net7 = tflearn.max_pool_2d(net7, 2)\n",
    "net7 = tflearn.conv_2d(net7, 64, 5, activation='relu')\n",
    "net7 = tflearn.conv_2d(net7, 64, 5, activation='relu')\n",
    "net7 = tflearn.fully_connected(net7, 100, activation='relu')\n",
    "net7 = tflearn.dropout(net7, 0.5)\n",
    "net7 = tflearn.fully_connected(net7, 2, activation='softmax')\n",
    "net7 = tflearn.regression(net7, optimizer='adam', learning_rate=1e-4, loss='categorical_crossentropy')\n",
    "\n",
    "# Define model\n",
    "model7 = tflearn.DNN(net7)\n",
    "\n",
    "# Model summary\n",
    "def model_summary():\n",
    "    model_vars = tf.trainable_variables()\n",
    "    slim.model_analyzer.analyze_vars(model_vars, print_info=True)\n",
    "\n",
    "model_summary()"
   ]
  },
  {
   "cell_type": "code",
   "execution_count": 178,
   "metadata": {},
   "outputs": [
    {
     "name": "stdout",
     "output_type": "stream",
     "text": [
      "Training Step: 2609  | total loss: \u001b[1m\u001b[32m0.14661\u001b[0m\u001b[0m | time: 4.587s\n",
      "| Adam | epoch: 010 | loss: 0.14661 - acc: 0.9544 -- iter: 2080/2083\n",
      "Training Step: 2610  | total loss: \u001b[1m\u001b[32m0.13881\u001b[0m\u001b[0m | time: 4.604s\n",
      "| Adam | epoch: 010 | loss: 0.13881 - acc: 0.9590 -- iter: 2083/2083\n",
      "--\n",
      "INFO:tensorflow:C:\\Users\\ferba\\Documents\\Jupyter_notebook\\WPO4\\WPO4\\model7_conv_deep.tflearn is not in all_model_checkpoint_paths. Manually adding it.\n"
     ]
    }
   ],
   "source": [
    "# Clear any logs from previous runs\n",
    "!rm -rf ./logs/ \n",
    "\n",
    "# Train model\n",
    "model7.fit(X, labels_train, n_epoch=10, batch_size=8, show_metric=True, run_id=\"model7\")\n",
    "tflearn.models.dnn.DNN (net7, clip_gradients=5.0, tensorboard_verbose=0, tensorboard_dir='/tmp/tflearn_logs/', checkpoint_path=None, best_checkpoint_path=None, max_checkpoints=None, session=None, best_val_accuracy=0.0)\n",
    "\n",
    "model7.save('model7_conv_deep.tflearn')"
   ]
  },
  {
   "cell_type": "code",
   "execution_count": 179,
   "metadata": {},
   "outputs": [
    {
     "data": {
      "text/plain": [
       "Reusing TensorBoard on port 6006 (pid 21396), started 3 days, 18:54:58 ago. (Use '!kill 21396' to kill it.)"
      ]
     },
     "metadata": {},
     "output_type": "display_data"
    },
    {
     "data": {
      "text/html": [
       "\n",
       "        <iframe\n",
       "            width=\"100%\"\n",
       "            height=\"800\"\n",
       "            src=\"http://localhost:6006\"\n",
       "            frameborder=\"0\"\n",
       "            allowfullscreen\n",
       "        ></iframe>\n",
       "        "
      ],
      "text/plain": [
       "<IPython.lib.display.IFrame at 0x1de90da2fc8>"
      ]
     },
     "metadata": {},
     "output_type": "display_data"
    }
   ],
   "source": [
    "%reload_ext tensorboard\n",
    "%tensorboard --logdir='/tmp/tflearn_logs/'"
   ]
  },
  {
   "cell_type": "markdown",
   "metadata": {},
   "source": [
    "##### Graphs"
   ]
  },
  {
   "cell_type": "markdown",
   "metadata": {},
   "source": [
    "###### General view\n",
    "\n",
    "<img src=\"screenshots_wpo4/08_Model7_conv3.JPG\">\n",
    "\n",
    "###### Accuracy\n",
    "\n",
    "<img src=\"screenshots_wpo4/08_Model7_acc.JPG\">\n",
    "\n",
    "###### Loss\n",
    "\n",
    "<img src=\"screenshots_wpo4/08_Model7_loss.JPG\">"
   ]
  },
  {
   "cell_type": "markdown",
   "metadata": {},
   "source": [
    "We can see from convolutional networks above that if is deeper it has better accuracy, nevertheless we have seen accuracy is not the only important paramter to take into account."
   ]
  },
  {
   "cell_type": "code",
   "execution_count": 180,
   "metadata": {},
   "outputs": [
    {
     "name": "stdout",
     "output_type": "stream",
     "text": [
      "Test accuracy: 97.4138%\n"
     ]
    }
   ],
   "source": [
    "# Evaluating the model to obtain accuracy\n",
    "\n",
    "score = model7.evaluate(X_val, labels_test)\n",
    "\n",
    "print('Test accuracy: %0.4f%%' % (score[0] * 100))"
   ]
  },
  {
   "cell_type": "code",
   "execution_count": 181,
   "metadata": {},
   "outputs": [],
   "source": [
    "# Model prediction\n",
    "\n",
    "pred = model7.predict(X_val)\n",
    "pred = (pred > 0.5)\n",
    "# print(pred)"
   ]
  },
  {
   "cell_type": "code",
   "execution_count": 182,
   "metadata": {},
   "outputs": [
    {
     "data": {
      "text/plain": [
       "'Negative'"
      ]
     },
     "execution_count": 182,
     "metadata": {},
     "output_type": "execute_result"
    }
   ],
   "source": [
    "# Model prediction for one sample\n",
    "\n",
    "# Selected sample:\n",
    "sel_sam = 2\n",
    "label = get_prediction_string(labels_test[sel_sam].argmax())\n",
    "label"
   ]
  },
  {
   "cell_type": "code",
   "execution_count": 184,
   "metadata": {},
   "outputs": [
    {
     "data": {
      "text/plain": [
       "'Negative'"
      ]
     },
     "execution_count": 184,
     "metadata": {},
     "output_type": "execute_result"
    }
   ],
   "source": [
    "# Patch prediction\n",
    "\n",
    "image_pred = X_val[sel_sam]\n",
    "pred_im = model7.predict(np.array([image_pred]))\n",
    "pred_im = (pred_im > 0.5)\n",
    "\n",
    "prediction = get_prediction_string(pred_im.argmax())\n",
    "prediction"
   ]
  },
  {
   "cell_type": "code",
   "execution_count": 157,
   "metadata": {},
   "outputs": [
    {
     "data": {
      "image/png": "[encoded data removed]",
      "text/plain": [
       "<Figure size 432x288 with 1 Axes>"
      ]
     },
     "metadata": {
      "needs_background": "light"
     },
     "output_type": "display_data"
    }
   ],
   "source": [
    "show_single_image(image_pred.reshape(20,20), \"Prediction : {0}. Ground Truth: {1}\".format(prediction, label))"
   ]
  },
  {
   "cell_type": "markdown",
   "metadata": {},
   "source": [
    "We can obtain certain metrics to evaluate how good our model is."
   ]
  },
  {
   "cell_type": "markdown",
   "metadata": {},
   "source": [
    "##### Confusion Matrix"
   ]
  },
  {
   "cell_type": "code",
   "execution_count": 185,
   "metadata": {},
   "outputs": [
    {
     "name": "stdout",
     "output_type": "stream",
     "text": [
      "[[111   1]\n",
      " [  5 115]]\n"
     ]
    }
   ],
   "source": [
    "labels_test_array = np.array(labels_test)\n",
    "\n",
    "cm = confusion_matrix(labels_test_array.argmax(axis=1), pred.argmax(axis=1))\n",
    "print(cm)"
   ]
  },
  {
   "cell_type": "code",
   "execution_count": 186,
   "metadata": {},
   "outputs": [
    {
     "name": "stdout",
     "output_type": "stream",
     "text": [
      "0.9741379310344828\n"
     ]
    }
   ],
   "source": [
    "tn, fp, fn, tp = cm.ravel()\n",
    "accuracy = (tp+tn)/(tp+tn+fp+fn)\n",
    "print(accuracy)"
   ]
  },
  {
   "cell_type": "markdown",
   "metadata": {},
   "source": [
    "##### Precision and recall"
   ]
  },
  {
   "cell_type": "code",
   "execution_count": 187,
   "metadata": {},
   "outputs": [
    {
     "name": "stdout",
     "output_type": "stream",
     "text": [
      "Average precision-recall score: 0.97\n"
     ]
    }
   ],
   "source": [
    "average_precision = average_precision_score(labels_test_array.argmax(axis=1), pred.argmax(axis=1))\n",
    "\n",
    "print('Average precision-recall score: {0:0.2f}'.format(\n",
    "      average_precision))"
   ]
  },
  {
   "cell_type": "code",
   "execution_count": 188,
   "metadata": {},
   "outputs": [],
   "source": [
    "pos_probs = model7.predict(X_val)\n",
    "pos_probs = pos_probs[:,1]\n",
    "\n",
    "# print(pos_probs.shape)\n",
    "# print(labels_test.argmax(axis=1).shape)\n",
    "\n",
    "precision, recall, thresholds = precision_recall_curve(labels_test.argmax(axis=1), pos_probs)\n",
    "\n",
    "# print(precision)\n",
    "# print(recall)\n",
    "# print(thresholds)"
   ]
  },
  {
   "cell_type": "code",
   "execution_count": 189,
   "metadata": {},
   "outputs": [
    {
     "name": "stdout",
     "output_type": "stream",
     "text": [
      "Positive precision: 99.14\n"
     ]
    }
   ],
   "source": [
    "precisionman = tp*100/(tp+fp)\n",
    "print('Positive precision: {0:0.2f}'.format(\n",
    "      precisionman))"
   ]
  },
  {
   "cell_type": "code",
   "execution_count": 190,
   "metadata": {},
   "outputs": [
    {
     "name": "stdout",
     "output_type": "stream",
     "text": [
      "Positive recall: 95.83\n"
     ]
    }
   ],
   "source": [
    "recallman = tp*100/(tp+fn)\n",
    "print('Positive recall: {0:0.2f}'.format(\n",
    "      recallman))"
   ]
  },
  {
   "cell_type": "markdown",
   "metadata": {},
   "source": [
    "#### Full metrics report"
   ]
  },
  {
   "cell_type": "code",
   "execution_count": 191,
   "metadata": {},
   "outputs": [
    {
     "name": "stdout",
     "output_type": "stream",
     "text": [
      "              precision    recall  f1-score   support\n",
      "\n",
      "    negative       0.96      0.99      0.97       112\n",
      "    positive       0.99      0.96      0.97       120\n",
      "\n",
      "   micro avg       0.97      0.97      0.97       232\n",
      "   macro avg       0.97      0.97      0.97       232\n",
      "weighted avg       0.97      0.97      0.97       232\n",
      " samples avg       0.97      0.97      0.97       232\n",
      "\n"
     ]
    }
   ],
   "source": [
    "print(classification_report(labels_test_array, pred,  target_names = [\"negative\",\"positive\"]))"
   ]
  },
  {
   "cell_type": "markdown",
   "metadata": {},
   "source": [
    "##### ROC curve"
   ]
  },
  {
   "cell_type": "code",
   "execution_count": 192,
   "metadata": {},
   "outputs": [
    {
     "name": "stdout",
     "output_type": "stream",
     "text": [
      "[0.         0.00892857 1.        ]\n",
      "[0.         0.95833333 1.        ]\n",
      "[2 1 0]\n",
      "0.974702380952381\n"
     ]
    }
   ],
   "source": [
    "fpr, tpr, thresholds = roc_curve(labels_test_array.argmax(axis=1), pred.argmax(axis=1))\n",
    "auc7 = auc(fpr, tpr)\n",
    "print(fpr)\n",
    "print(tpr)\n",
    "print(thresholds)\n",
    "print(auc7)"
   ]
  },
  {
   "cell_type": "code",
   "execution_count": 193,
   "metadata": {},
   "outputs": [
    {
     "data": {
      "image/png": "[encoded data removed]",
      "text/plain": [
       "<Figure size 432x288 with 1 Axes>"
      ]
     },
     "metadata": {
      "needs_background": "light"
     },
     "output_type": "display_data"
    }
   ],
   "source": [
    "plt.figure(1)\n",
    "plt.plot([0, 1], [0, 1], 'k--')\n",
    "plt.plot(fpr, tpr, label='Keras (area auc = {:.3f})'.format(auc7))\n",
    "plt.xlabel('False positive rate')\n",
    "plt.ylabel('True positive rate')\n",
    "plt.title('ROC curve')\n",
    "plt.legend(loc='best')\n",
    "plt.show()"
   ]
  },
  {
   "cell_type": "markdown",
   "metadata": {},
   "source": [
    "##### Precision-recall curve"
   ]
  },
  {
   "cell_type": "code",
   "execution_count": 194,
   "metadata": {},
   "outputs": [
    {
     "data": {
      "image/png": "[encoded data removed]",
      "text/plain": [
       "<Figure size 432x288 with 1 Axes>"
      ]
     },
     "metadata": {
      "needs_background": "light"
     },
     "output_type": "display_data"
    }
   ],
   "source": [
    "no_skill = len(labels_test_array[labels_test_array.argmax(axis=1)==1]) / len(labels_test_array)\n",
    "plt.plot(recall, precision, marker='.', label='NN')\n",
    "plt.plot([0, 1], [no_skill, no_skill], linestyle='--', label='No Skill')\n",
    "plt.xlabel('Recall')\n",
    "plt.ylabel('Precision')\n",
    "plt.legend()\n",
    "# show the plot\n",
    "plt.show()"
   ]
  },
  {
   "cell_type": "markdown",
   "metadata": {
    "deletable": false,
    "editable": false,
    "nbgrader": {
     "checksum": "0d0ec0155912f600620327325c499bac",
     "grade": false,
     "grade_id": "cell-72468f1cc2255060",
     "locked": true,
     "schema_version": 1,
     "solution": false
    }
   },
   "source": [
    "### (BONUS) Create your own convolution neural network\n",
    "\n",
    "Create your own network and try to increase model's accuracy. You can use different:\n",
    "* size of convolutional kernels\n",
    "* activation functions\n",
    "* optimizers ...\n",
    "***\n",
    "\n",
    "* **Extra task**: Select a different part of the dataset as test-set and repeat the training tasks"
   ]
  },
  {
   "cell_type": "code",
   "execution_count": 195,
   "metadata": {},
   "outputs": [],
   "source": [
    "# Code for BONUS part"
   ]
  },
  {
   "cell_type": "markdown",
   "metadata": {},
   "source": [
    "#### New Model definition\n",
    "\n",
    "###### For trying to have better accuracy we added another convolutional layer and a fully connected\n",
    "\n",
    "input -> conv1 -> pool1 -> conv2 -> pool2 -> conv3 ->  pool3 -> conv4 -> pool4 -> conv5 -> fc1 -> fc2 ->softmax"
   ]
  },
  {
   "cell_type": "code",
   "execution_count": 196,
   "metadata": {},
   "outputs": [
    {
     "name": "stdout",
     "output_type": "stream",
     "text": [
      "---------\n",
      "Variables: name (type shape) [size]\n",
      "---------\n",
      "Conv2D/W:0 (float32_ref 5x5x1x64) [1600, bytes: 6400]\n",
      "Conv2D/b:0 (float32_ref 64) [64, bytes: 256]\n",
      "Conv2D_1/W:0 (float32_ref 5x5x64x64) [102400, bytes: 409600]\n",
      "Conv2D_1/b:0 (float32_ref 64) [64, bytes: 256]\n",
      "Conv2D_2/W:0 (float32_ref 5x5x64x64) [102400, bytes: 409600]\n",
      "Conv2D_2/b:0 (float32_ref 64) [64, bytes: 256]\n",
      "Conv2D_3/W:0 (float32_ref 5x5x64x64) [102400, bytes: 409600]\n",
      "Conv2D_3/b:0 (float32_ref 64) [64, bytes: 256]\n",
      "Conv2D_4/W:0 (float32_ref 5x5x64x64) [102400, bytes: 409600]\n",
      "Conv2D_4/b:0 (float32_ref 64) [64, bytes: 256]\n",
      "FullyConnected/W:0 (float32_ref 256x100) [25600, bytes: 102400]\n",
      "FullyConnected/b:0 (float32_ref 100) [100, bytes: 400]\n",
      "FullyConnected_1/W:0 (float32_ref 100x2) [200, bytes: 800]\n",
      "FullyConnected_1/b:0 (float32_ref 2) [2, bytes: 8]\n",
      "Total size of variables: 437422\n",
      "Total bytes of variables: 1749688\n"
     ]
    }
   ],
   "source": [
    "tf.reset_default_graph()\n",
    "\n",
    "# Build neural network\n",
    "net8 = tflearn.input_data(shape=[None,20,20,1])\n",
    "net8 = tflearn.conv_2d(net8, 64, 5, activation='relu')\n",
    "net8 = tflearn.max_pool_2d(net8, 2)\n",
    "net8 = tflearn.conv_2d(net8, 64, 5, activation='relu')\n",
    "net8 = tflearn.max_pool_2d(net8, 2)\n",
    "net8 = tflearn.conv_2d(net8, 64, 5, activation='relu')\n",
    "net8 = tflearn.max_pool_2d(net8, 2)\n",
    "net8 = tflearn.conv_2d(net8, 64, 5, activation='relu')\n",
    "net8 = tflearn.max_pool_2d(net8, 2)\n",
    "net8 = tflearn.conv_2d(net8, 64, 5, activation='relu')\n",
    "net8 = tflearn.fully_connected(net8, 100, activation='relu')\n",
    "net8 = tflearn.fully_connected(net8, 2, activation='softmax')\n",
    "net8 = tflearn.regression(net8, optimizer='adam', learning_rate=1e-4, loss='categorical_crossentropy')\n",
    "\n",
    "# Define model\n",
    "model8 = tflearn.DNN(net8)\n",
    "\n",
    "# Model summary\n",
    "def model_summary():\n",
    "    model_vars = tf.trainable_variables()\n",
    "    slim.model_analyzer.analyze_vars(model_vars, print_info=True)\n",
    "\n",
    "model_summary()"
   ]
  },
  {
   "cell_type": "code",
   "execution_count": 197,
   "metadata": {},
   "outputs": [
    {
     "name": "stdout",
     "output_type": "stream",
     "text": [
      "Training Step: 2609  | total loss: \u001b[1m\u001b[32m0.07511\u001b[0m\u001b[0m | time: 6.050s\n",
      "| Adam | epoch: 010 | loss: 0.07511 - acc: 0.9723 -- iter: 2080/2083\n",
      "Training Step: 2610  | total loss: \u001b[1m\u001b[32m0.06936\u001b[0m\u001b[0m | time: 6.073s\n",
      "| Adam | epoch: 010 | loss: 0.06936 - acc: 0.9751 -- iter: 2083/2083\n",
      "--\n",
      "INFO:tensorflow:C:\\Users\\ferba\\Documents\\Jupyter_notebook\\WPO4\\WPO4\\model9_conv_deep.tflearn is not in all_model_checkpoint_paths. Manually adding it.\n"
     ]
    }
   ],
   "source": [
    "# Clear any logs from previous runs\n",
    "!rm -rf ./logs/ \n",
    "\n",
    "# Train model\n",
    "model8.fit(X, labels_train, n_epoch=10, batch_size=8, show_metric=True, run_id=\"model8\")\n",
    "tflearn.models.dnn.DNN (net8, clip_gradients=5.0, tensorboard_verbose=0, tensorboard_dir='/tmp/tflearn_logs/', checkpoint_path=None, best_checkpoint_path=None, max_checkpoints=None, session=None, best_val_accuracy=0.0)\n",
    "\n",
    "model8.save('model9_conv_deep.tflearn')"
   ]
  },
  {
   "cell_type": "code",
   "execution_count": 175,
   "metadata": {},
   "outputs": [
    {
     "data": {
      "text/plain": [
       "Reusing TensorBoard on port 6006 (pid 21396), started 3 days, 18:52:29 ago. (Use '!kill 21396' to kill it.)"
      ]
     },
     "metadata": {},
     "output_type": "display_data"
    },
    {
     "data": {
      "text/html": [
       "\n",
       "        <iframe\n",
       "            width=\"100%\"\n",
       "            height=\"800\"\n",
       "            src=\"http://localhost:6006\"\n",
       "            frameborder=\"0\"\n",
       "            allowfullscreen\n",
       "        ></iframe>\n",
       "        "
      ],
      "text/plain": [
       "<IPython.lib.display.IFrame at 0x1def99e0c88>"
      ]
     },
     "metadata": {},
     "output_type": "display_data"
    }
   ],
   "source": [
    "%reload_ext tensorboard\n",
    "%tensorboard --logdir='/tmp/tflearn_logs/'"
   ]
  },
  {
   "cell_type": "markdown",
   "metadata": {},
   "source": [
    "##### Graphs"
   ]
  },
  {
   "cell_type": "markdown",
   "metadata": {},
   "source": [
    "###### General view\n",
    "\n",
    "<img src=\"screenshots_wpo4/09_Model9_per.JPG\">\n",
    "\n",
    "###### Accuracy\n",
    "\n",
    "<img src=\"screenshots_wpo4/09_Model9_acc.JPG\">\n",
    "\n",
    "###### Loss\n",
    "\n",
    "<img src=\"screenshots_wpo4/09_Model9_loss.JPG\">"
   ]
  },
  {
   "cell_type": "code",
   "execution_count": 198,
   "metadata": {},
   "outputs": [
    {
     "name": "stdout",
     "output_type": "stream",
     "text": [
      "Test accuracy: 96.5517%\n"
     ]
    }
   ],
   "source": [
    "# Evaluating the model to obtain accuracy\n",
    "\n",
    "score = model8.evaluate(X_val, labels_test)\n",
    "\n",
    "print('Test accuracy: %0.4f%%' % (score[0] * 100))"
   ]
  },
  {
   "cell_type": "code",
   "execution_count": 199,
   "metadata": {},
   "outputs": [],
   "source": [
    "# Model prediction\n",
    "\n",
    "pred = model8.predict(X_val)\n",
    "pred = (pred > 0.5)\n",
    "# print(pred)"
   ]
  },
  {
   "cell_type": "code",
   "execution_count": 200,
   "metadata": {},
   "outputs": [
    {
     "data": {
      "text/plain": [
       "'Negative'"
      ]
     },
     "execution_count": 200,
     "metadata": {},
     "output_type": "execute_result"
    }
   ],
   "source": [
    "# Model prediction for one sample\n",
    "\n",
    "# Selected sample:\n",
    "sel_sam = 2\n",
    "label = get_prediction_string(labels_test[sel_sam].argmax())\n",
    "label"
   ]
  },
  {
   "cell_type": "code",
   "execution_count": 202,
   "metadata": {},
   "outputs": [
    {
     "data": {
      "text/plain": [
       "'Negative'"
      ]
     },
     "execution_count": 202,
     "metadata": {},
     "output_type": "execute_result"
    }
   ],
   "source": [
    "# Patch prediction\n",
    "\n",
    "image_pred = X_val[sel_sam]\n",
    "pred_im = model8.predict(np.array([image_pred]))\n",
    "pred_im = (pred_im > 0.5)\n",
    "\n",
    "prediction = get_prediction_string(pred_im.argmax())\n",
    "prediction"
   ]
  },
  {
   "cell_type": "code",
   "execution_count": 203,
   "metadata": {},
   "outputs": [
    {
     "data": {
      "image/png": "[encoded data removed]",
      "text/plain": [
       "<Figure size 432x288 with 1 Axes>"
      ]
     },
     "metadata": {
      "needs_background": "light"
     },
     "output_type": "display_data"
    }
   ],
   "source": [
    "show_single_image(image_pred.reshape(20,20), \"Prediction : {0}. Ground Truth: {1}\".format(prediction, label))"
   ]
  },
  {
   "cell_type": "markdown",
   "metadata": {},
   "source": [
    "We can obtain certain metrics to evaluate how good our model is."
   ]
  },
  {
   "cell_type": "markdown",
   "metadata": {},
   "source": [
    "##### Confusion Matrix"
   ]
  },
  {
   "cell_type": "code",
   "execution_count": 204,
   "metadata": {},
   "outputs": [
    {
     "name": "stdout",
     "output_type": "stream",
     "text": [
      "[[106   6]\n",
      " [  2 118]]\n"
     ]
    }
   ],
   "source": [
    "labels_test_array = np.array(labels_test)\n",
    "\n",
    "cm = confusion_matrix(labels_test_array.argmax(axis=1), pred.argmax(axis=1))\n",
    "print(cm)"
   ]
  },
  {
   "cell_type": "code",
   "execution_count": 205,
   "metadata": {},
   "outputs": [
    {
     "name": "stdout",
     "output_type": "stream",
     "text": [
      "0.9655172413793104\n"
     ]
    }
   ],
   "source": [
    "tn, fp, fn, tp = cm.ravel()\n",
    "accuracy = (tp+tn)/(tp+tn+fp+fn)\n",
    "print(accuracy)"
   ]
  },
  {
   "cell_type": "markdown",
   "metadata": {},
   "source": [
    "##### Precision and recall"
   ]
  },
  {
   "cell_type": "code",
   "execution_count": 206,
   "metadata": {},
   "outputs": [
    {
     "name": "stdout",
     "output_type": "stream",
     "text": [
      "Average precision-recall score: 0.94\n"
     ]
    }
   ],
   "source": [
    "average_precision = average_precision_score(labels_test_array.argmax(axis=1), pred.argmax(axis=1))\n",
    "\n",
    "print('Average precision-recall score: {0:0.2f}'.format(\n",
    "      average_precision))"
   ]
  },
  {
   "cell_type": "code",
   "execution_count": 207,
   "metadata": {},
   "outputs": [],
   "source": [
    "pos_probs = model8.predict(X_val)\n",
    "pos_probs = pos_probs[:,1]\n",
    "\n",
    "# print(pos_probs.shape)\n",
    "# print(labels_test.argmax(axis=1).shape)\n",
    "\n",
    "precision, recall, thresholds = precision_recall_curve(labels_test.argmax(axis=1), pos_probs)\n",
    "\n",
    "# print(precision)\n",
    "# print(recall)\n",
    "# print(thresholds)"
   ]
  },
  {
   "cell_type": "code",
   "execution_count": 208,
   "metadata": {},
   "outputs": [
    {
     "name": "stdout",
     "output_type": "stream",
     "text": [
      "Positive precision: 95.16\n"
     ]
    }
   ],
   "source": [
    "precisionman = tp*100/(tp+fp)\n",
    "print('Positive precision: {0:0.2f}'.format(\n",
    "      precisionman))"
   ]
  },
  {
   "cell_type": "code",
   "execution_count": 209,
   "metadata": {},
   "outputs": [
    {
     "name": "stdout",
     "output_type": "stream",
     "text": [
      "Positive recall: 98.33\n"
     ]
    }
   ],
   "source": [
    "recallman = tp*100/(tp+fn)\n",
    "print('Positive recall: {0:0.2f}'.format(\n",
    "      recallman))"
   ]
  },
  {
   "cell_type": "markdown",
   "metadata": {},
   "source": [
    "#### Full metrics report"
   ]
  },
  {
   "cell_type": "code",
   "execution_count": 210,
   "metadata": {},
   "outputs": [
    {
     "name": "stdout",
     "output_type": "stream",
     "text": [
      "              precision    recall  f1-score   support\n",
      "\n",
      "    negative       0.98      0.95      0.96       112\n",
      "    positive       0.95      0.98      0.97       120\n",
      "\n",
      "   micro avg       0.97      0.97      0.97       232\n",
      "   macro avg       0.97      0.96      0.97       232\n",
      "weighted avg       0.97      0.97      0.97       232\n",
      " samples avg       0.97      0.97      0.97       232\n",
      "\n"
     ]
    }
   ],
   "source": [
    "print(classification_report(labels_test_array, pred,  target_names = [\"negative\",\"positive\"]))"
   ]
  },
  {
   "cell_type": "markdown",
   "metadata": {},
   "source": [
    "##### ROC curve"
   ]
  },
  {
   "cell_type": "code",
   "execution_count": 211,
   "metadata": {},
   "outputs": [
    {
     "name": "stdout",
     "output_type": "stream",
     "text": [
      "[0.         0.05357143 1.        ]\n",
      "[0.         0.98333333 1.        ]\n",
      "[2 1 0]\n",
      "0.9648809523809524\n"
     ]
    }
   ],
   "source": [
    "fpr, tpr, thresholds = roc_curve(labels_test_array.argmax(axis=1), pred.argmax(axis=1))\n",
    "auc8 = auc(fpr, tpr)\n",
    "print(fpr)\n",
    "print(tpr)\n",
    "print(thresholds)\n",
    "print(auc8)"
   ]
  },
  {
   "cell_type": "code",
   "execution_count": 212,
   "metadata": {},
   "outputs": [
    {
     "data": {
      "image/png": "[encoded data removed]",
      "text/plain": [
       "<Figure size 432x288 with 1 Axes>"
      ]
     },
     "metadata": {
      "needs_background": "light"
     },
     "output_type": "display_data"
    }
   ],
   "source": [
    "plt.figure(1)\n",
    "plt.plot([0, 1], [0, 1], 'k--')\n",
    "plt.plot(fpr, tpr, label='Keras (area auc = {:.3f})'.format(auc8))\n",
    "plt.xlabel('False positive rate')\n",
    "plt.ylabel('True positive rate')\n",
    "plt.title('ROC curve')\n",
    "plt.legend(loc='best')\n",
    "plt.show()"
   ]
  },
  {
   "cell_type": "markdown",
   "metadata": {},
   "source": [
    "##### Precision-recall curve"
   ]
  },
  {
   "cell_type": "code",
   "execution_count": 213,
   "metadata": {},
   "outputs": [
    {
     "data": {
      "image/png": "[encoded data removed]",
      "text/plain": [
       "<Figure size 432x288 with 1 Axes>"
      ]
     },
     "metadata": {
      "needs_background": "light"
     },
     "output_type": "display_data"
    }
   ],
   "source": [
    "no_skill = len(labels_test_array[labels_test_array.argmax(axis=1)==1]) / len(labels_test_array)\n",
    "plt.plot(recall, precision, marker='.', label='NN')\n",
    "plt.plot([0, 1], [no_skill, no_skill], linestyle='--', label='No Skill')\n",
    "plt.xlabel('Recall')\n",
    "plt.ylabel('Precision')\n",
    "plt.legend()\n",
    "# show the plot\n",
    "plt.show()"
   ]
  },
  {
   "cell_type": "markdown",
   "metadata": {},
   "source": [
    "<img src=\"screenshots_wpo4/pumas.png\" width=\"100\">"
   ]
  },
  {
   "cell_type": "code",
   "execution_count": null,
   "metadata": {},
   "outputs": [],
   "source": []
  }
 ],
 "metadata": {
  "anaconda-cloud": {},
  "celltoolbar": "Edit Metadata",
  "kernelspec": {
   "display_name": "Python 3",
   "language": "python",
   "name": "python3"
  },
  "language_info": {
   "codemirror_mode": {
    "name": "ipython",
    "version": 3
   },
   "file_extension": ".py",
   "mimetype": "text/x-python",
   "name": "python",
   "nbconvert_exporter": "python",
   "pygments_lexer": "ipython3",
   "version": "3.7.4"
  }
 },
 "nbformat": 4,
 "nbformat_minor": 1
}
